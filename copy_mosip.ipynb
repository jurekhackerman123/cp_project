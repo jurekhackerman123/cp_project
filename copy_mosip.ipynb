{
 "cells": [
  {
   "cell_type": "code",
   "execution_count": null,
   "id": "d9ac91e1",
   "metadata": {},
   "outputs": [
    {
     "name": "stdout",
     "output_type": "stream",
     "text": [
      "1000 1000 1000 1000\n"
     ]
    }
   ],
   "source": [
    "import numpy as np\n",
    "from scipy.integrate import odeint\n",
    "import matplotlib.pyplot as plt\n",
    "from mpl_toolkits.mplot3d import Axes3D\n",
    "from matplotlib import animation\n",
    "from scipy import constants\n",
    "# import oct2py\n",
    "\n",
    "# rk4 only works for 1st order DE\n",
    "\n",
    "G = constants.G\n",
    "c = constants.speed_of_light\n",
    "\n",
    "m = 1 #1.989 * 10**30              # mass of the sun in kg\n",
    "M = 2 #10**6 * m                   # mass of BH\n",
    "\n",
    "L = 100\n",
    "\n",
    "A = 1 # G*M\n",
    "B = 0.005 #L**2 / m**2\n",
    "C = 0.8 #3*G*M*L**2 / (m*c**2)\n",
    "\n",
    "\n",
    "x0 = 5000\n",
    "vx0 = 1\n",
    "y0 = 5000\n",
    "vy0 = 1\n",
    "t = np.linspace(0,1000,1000)\n",
    "\n",
    "t0 = t[0]\n",
    "\n",
    "h = len(t)\n",
    "\n",
    "# function to be solved: dy/dx = x + y\n",
    "def f1(t,r,v):\n",
    "    return v\n",
    "\n",
    "def f2(t,r,v, k=1, m=1):\n",
    "    return (-k/m)*r\n",
    "\n",
    "# du/dx = f(x)\n",
    "def v_(t,r,v):\n",
    "    # r = np.sqrt(x**2+y**2)\n",
    "    return -A/(r**2)+B/(r**3)-C/(r**4)\n",
    "\n",
    "def r_(t,r,v):\n",
    "    return v\n",
    "\n",
    "# def motion_x(t,x,vx):\n",
    "#     return 500-t\n",
    "\n",
    "# def motion_y(t,y,vy):\n",
    "#     return (0*y+x0)\n",
    "\n",
    "'''\n",
    "Zweiter Versuch\n",
    "'''\n",
    "\n",
    "x = np.zeros(len(t))\n",
    "vx = np.zeros(len(t))\n",
    "y = np.ones(len(t))\n",
    "vy = np.zeros(len(t))\n",
    "x[0] = x0\n",
    "vx[0] = vx0\n",
    "y[0] = y0\n",
    "vy[0] = vy0\n",
    "\n",
    "\n",
    "def rk4(h = 0.05):\n",
    "    for i in range(0,len(t)-1):\n",
    "        k1r = (f1(t[i], r[i], v[i]))\n",
    "        k1v = (f2(t[i], r[i], v[i]))\n",
    "        k2r = (f1(t[i]+ h/2, r[i] + h*k1r/2, v[i] + h*k1v/2))\n",
    "        k2v = (f2(t[i]+ h/2, r[i] + h*k1r/2, v[i] + h*k1v/2))\n",
    "        k3r = (f1(t[i]+ h/2, r[i] + h*k2r/2, v[i] + h*k2v/2))\n",
    "        k3v = (f2(t[i]+ h/2, r[i] + h*k2r/2, v[i] + h*k2v/2))\n",
    "        k4r = (f1(t[i]+ h, r[i] + h*k3r/2, v[i] + h*k3v/2))\n",
    "        k4v = (f2(t[i]+ h, r[i] + h*k3r/2, v[i] + h*k3v/2))\n",
    "        print(k1r, k2r, k3r, k4r)\n",
    "        r[i+1]  = r[i] + (k1r+2*k2r+2*k3r+k4r)*h/6\n",
    "        v[i+1]  = v[i] + (k1v+2*k2v+2*k3v+k4v)*h/6\n",
    "        # rn = r0 + kr\n",
    "        # vn = v0 + kv\n",
    "    return v, r\n",
    "\n",
    "def my_rk4(h = 0.07):\n",
    "    x = np.zeros(len(t))\n",
    "    vx = np.zeros(len(t))\n",
    "    y = np.zeros(len(t))\n",
    "    vy = np.zeros(len(t))\n",
    "    x[0] = x0\n",
    "    vx[0] = vx0\n",
    "    y[0] = y0\n",
    "    vy[0] = vy0\n",
    "    for i in range(0,len(t)-1):\n",
    "        k1x = (motion_x(t[i], x[i], vx[i]))\n",
    "        k1vx = (v_(t[i], x[i], vx[i]))\n",
    "        k2x = (motion_x(t[i]+ h/2, x[i] + h*k1x/2, vx[i] + h*k1vx/2))\n",
    "        k2vx = (v_(t[i]+ h/2, x[i] + h*k1x/2, vx[i] + h*k1vx/2))\n",
    "        k3x = (motion_x(t[i]+ h/2, x[i] + h*k2x/2, vx[i] + h*k2vx/2))\n",
    "        k3vx = (v_(t[i]+ h/2, x[i] + h*k2x/2, vx[i] + h*k2vx/2))\n",
    "        k4x = (motion_x(t[i]+ h, x[i] + h*k3x/2, vx[i] + h*k3vx/2))\n",
    "        k4vx = (v_(t[i]+ h, x[i] + h*k3x/2, vx[i] + h*k3vx/2))\n",
    "        x[i+1]  = x[i] + (k1x+2*k2x+2*k3x+k4x)*h/6\n",
    "        vx[i+1]  = vx[i] + (k1vx+2*k2vx+2*k3vx+k4vx)*h/6\n",
    "        if x[i] <= 0:\n",
    "            x[i] = 0\n",
    "            x = x[:i]\n",
    "            vx = vx[:i]\n",
    "            break\n",
    "            \n",
    "        k1y = (motion_y(t[i], y[i], vy[i]))\n",
    "        k1vy = (v_(t[i], y[i], vy[i]))\n",
    "        k2y = (motion_y(t[i]+ h/2, y[i] + h*k1y/2, vy[i] + h*k1vy/2))\n",
    "        k2vy = (v_(t[i]+ h/2, y[i] + h*k1y/2, vy[i] + h*k1vy/2))\n",
    "        k3y = (motion_y(t[i]+ h/2, y[i] + h*k2y/2, vy[i] + h*k2vy/2))\n",
    "        k3vy = (v_(t[i]+ h/2, y[i] + h*k2y/2, vy[i] + h*k2vy/2))\n",
    "        k4y = (motion_y(t[i]+ h, y[i] + h*k3y/2, vy[i] + h*k3vy/2))\n",
    "        k4vy = (v_(t[i]+ h, y[i] + h*k3y/2, vy[i] + h*k3vy/2))\n",
    "        #print(k1r, k2r, k3r, k4r)\n",
    "        y[i+1]  = y[i] + (k1y+2*k2y+2*k3y+k4y)*h/6\n",
    "        vy[i+1]  = vy[i] + (k1vy+2*k2vy+2*k3vy+k4vy)*h/6\n",
    "        if y[i] <= 0:\n",
    "            y[i] = 0\n",
    "            y = y[:i]\n",
    "            vy = vy[:i]\n",
    "            break\n",
    "    return vx, x, vy,y\n",
    "\n",
    "\n",
    "v_res, r_res = rk4()\n",
    "print(np.shape(v_res), np.shape(r_res))\n",
    "\n",
    "# my_vx, my_x,my_vy,my_y = my_rk4()\n",
    "# print(len(my_vx), len(my_x),len(my_vy),len(my_y))"
   ]
  },
  {
   "cell_type": "code",
   "execution_count": 2,
   "id": "8e5ab50b",
   "metadata": {},
   "outputs": [
    {
     "data": {
      "image/png": "[encoded data removed]",
      "text/plain": [
       "<Figure size 640x480 with 1 Axes>"
      ]
     },
     "metadata": {},
     "output_type": "display_data"
    }
   ],
   "source": [
    "plt.plot(x0,y0,\"ro\",markersize=14,label=\"start\")\n",
    "plt.plot(my_x,my_y,\"bo\",label=\"Motion in potential of BH\")\n",
    "plt.scatter(0,0,marker=\"o\",color=\"black\",label=\"BH\")\n",
    "plt.plot(y,motion_y(t,y,vy),label=\"Motion without BH\")\n",
    "plt.legend()\n",
    "plt.show()"
   ]
  },
  {
   "cell_type": "markdown",
   "id": "4631957c",
   "metadata": {},
   "source": [
    "This is not quite what we shoulod get... It looks like the BH repulse the star. I'm looking into it."
   ]
  },
  {
   "cell_type": "code",
   "execution_count": null,
   "id": "23ff916b",
   "metadata": {},
   "outputs": [],
   "source": []
  }
 ],
 "metadata": {
  "kernelspec": {
   "display_name": "Python 3.7.0 ('base')",
   "language": "python",
   "name": "python3"
  },
  "language_info": {
   "codemirror_mode": {
    "name": "ipython",
    "version": 3
   },
   "file_extension": ".py",
   "mimetype": "text/x-python",
   "name": "python",
   "nbconvert_exporter": "python",
   "pygments_lexer": "ipython3",
   "version": "3.7.0"
  },
  "vscode": {
   "interpreter": {
    "hash": "6cc94a3ef9b43d307fc0bc6d2968c9e38fa85774268f1518fa3812430c62b91f"
   }
  }
 },
 "nbformat": 4,
 "nbformat_minor": 5
}
