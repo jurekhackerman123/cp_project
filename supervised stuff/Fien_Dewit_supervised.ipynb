{
 "cells": [
  {
   "cell_type": "code",
   "execution_count": 1,
   "metadata": {},
   "outputs": [],
   "source": [
    "import numpy as np\n",
    "import matplotlib.pyplot as plt\n",
    "from sklearn.discriminant_analysis import LinearDiscriminantAnalysis as LDA\n",
    "import pandas as pd\n",
    "from scipy.stats import t\n",
    "from matplotlib.colors import ListedColormap\n",
    "from scipy import stats"
   ]
  },
  {
   "cell_type": "markdown",
   "metadata": {},
   "source": [
    "# Exercise: Linear Regression "
   ]
  },
  {
   "cell_type": "markdown",
   "metadata": {},
   "source": [
    "We start by building a dataset (X,Y) with 50 samples, using the linear function f and add noise using np.random.normal(0,sigma):"
   ]
  },
  {
   "cell_type": "code",
   "execution_count": 2,
   "metadata": {},
   "outputs": [],
   "source": [
    "def f(x,theta):\n",
    "    x_temp = np.array([1.0,x])\n",
    "    return np.dot(x_temp,theta)"
   ]
  },
  {
   "cell_type": "code",
   "execution_count": 3,
   "metadata": {},
   "outputs": [],
   "source": [
    "sigma = 25\n",
    "n =7\n",
    "x = np.linspace(0,100,n)\n",
    "\n",
    "#our linear model is defined by beta:\n",
    "beta = [3.0,1.5]\n",
    "\n",
    "#a more compact way of coding this: \n",
    "y = np.array([ f(x[kk],beta) + np.random.normal(0,sigma) for kk in range(len(x))])\n",
    "#test with random data:\n",
    "#y = np.array([ np.random.random() for kk in range(len(x))])  "
   ]
  },
  {
   "cell_type": "code",
   "execution_count": 4,
   "metadata": {},
   "outputs": [
    {
     "data": {
      "image/png": "[encoded data removed]",
      "text/plain": [
       "<Figure size 432x288 with 1 Axes>"
      ]
     },
     "metadata": {
      "needs_background": "light"
     },
     "output_type": "display_data"
    }
   ],
   "source": [
    "plt.title('My dataset')\n",
    "plt.scatter(x,y)\n",
    "plt.xlabel('x')\n",
    "plt.ylabel('y')\n",
    "#plt.savefig('ligreg1.png')\n",
    "plt.show()"
   ]
  },
  {
   "cell_type": "markdown",
   "metadata": {},
   "source": [
    "<b> (a) Estimate the $\\beta_0$ and $\\beta_1$ from this dataset using MSE minimination (formula on slide 20):\n",
    "\n",
    "python hints: \n",
    "\n",
    "to build the matrix X for x, you might have to \"force\" it to be a np.array: to convert a list xx to a np.array, use xx = np.array(xx). \n",
    "\n",
    "to invert a matrix, use np.linalg.inv. \n",
    "\n",
    "for matricial product, use np.dot(,)"
   ]
  },
  {
   "cell_type": "code",
   "execution_count": 5,
   "metadata": {},
   "outputs": [
    {
     "name": "stdout",
     "output_type": "stream",
     "text": [
      "[[  1.           0.        ]\n",
      " [  1.          16.66666667]\n",
      " [  1.          33.33333333]\n",
      " [  1.          50.        ]\n",
      " [  1.          66.66666667]\n",
      " [  1.          83.33333333]\n",
      " [  1.         100.        ]]\n"
     ]
    }
   ],
   "source": [
    "#Building the X matrix\n",
    "X=np.ones((n,2))\n",
    "for i in range(n):\n",
    "    X[i][1]=x[i]\n",
    "print(X)"
   ]
  },
  {
   "cell_type": "code",
   "execution_count": 6,
   "metadata": {},
   "outputs": [
    {
     "name": "stdout",
     "output_type": "stream",
     "text": [
      "[16.25839385  1.33100418]\n"
     ]
    }
   ],
   "source": [
    "#hatbeta1 is the slope and hatbeta0 is the intercept\n",
    "\n",
    "from numpy.linalg import inv\n",
    "from numpy.linalg import det\n",
    "\n",
    "Xt=np.transpose(X)\n",
    "XtX=np.dot(Xt,X)\n",
    "\n",
    "inXtX=inv(XtX)\n",
    "Y=np.array(y)\n",
    "b=np.dot(inXtX,Xt)\n",
    "hatbeta=np.dot(b,Y)\n",
    "hatbeta0=hatbeta[0]\n",
    "hatbeta1=hatbeta[1]\n",
    "print(hatbeta)"
   ]
  },
  {
   "cell_type": "code",
   "execution_count": 7,
   "metadata": {},
   "outputs": [
    {
     "name": "stdout",
     "output_type": "stream",
     "text": [
      "the estimation of the slope is  1.33 the estimation of the intercept is  16.26\n"
     ]
    }
   ],
   "source": [
    "print('the estimation of the slope is ',round(hatbeta[1],2), 'the estimation of the intercept is ', round(hatbeta[0],2))"
   ]
  },
  {
   "cell_type": "code",
   "execution_count": 8,
   "metadata": {},
   "outputs": [
    {
     "data": {
      "image/png": "[encoded data removed]",
      "text/plain": [
       "<Figure size 360x360 with 1 Axes>"
      ]
     },
     "metadata": {
      "needs_background": "light"
     },
     "output_type": "display_data"
    }
   ],
   "source": [
    "#Gegeven output: the estimation of the slope is  1.7361474847139053 the estimation of the intercept is  -21.488178897684556\n",
    "plt.figure(figsize=(5,5))\n",
    "\n",
    "def estfunc(x,beta):\n",
    "    return beta[0]+beta[1]*x\n",
    "plt.scatter(x,y,label=\"dataset\")\n",
    "plt.plot(x,estfunc(x,hatbeta),label=\"estamination\",color=\"orange\")\n",
    "plt.title(\"Comparison between dataset and estaminations\",fontsize=15)\n",
    "plt.xlabel(\"x\",fontsize=15)\n",
    "plt.ylabel(\"y\",fontsize=15)\n",
    "plt.legend()\n",
    "plt.show()"
   ]
  },
  {
   "cell_type": "markdown",
   "metadata": {},
   "source": [
    "<b> (b) Estimate sigma from the dataset:"
   ]
  },
  {
   "cell_type": "code",
   "execution_count": 9,
   "metadata": {},
   "outputs": [],
   "source": [
    "y_hat = estfunc(x,hatbeta)"
   ]
  },
  {
   "cell_type": "code",
   "execution_count": 10,
   "metadata": {},
   "outputs": [
    {
     "name": "stdout",
     "output_type": "stream",
     "text": [
      "[[213.1790288]]\n"
     ]
    }
   ],
   "source": [
    "Xb=np.dot(X,hatbeta).reshape(n,1)\n",
    "Y=Y.reshape(n,1)\n",
    "YXb=Y-Xb\n",
    "YXbt=np.transpose(YXb)\n",
    "MSE=(1/n)*(np.dot(YXbt,YXb))\n",
    "print(MSE)"
   ]
  },
  {
   "cell_type": "code",
   "execution_count": 11,
   "metadata": {},
   "outputs": [
    {
     "name": "stdout",
     "output_type": "stream",
     "text": [
      "The estimated value of sigma is  17.28 , the true value is  25\n"
     ]
    }
   ],
   "source": [
    "sigma_hat =np.sqrt(n*MSE/(n-2))[0][0]\n",
    "print('The estimated value of sigma is ', round(sigma_hat,2),', the true value is ', sigma)"
   ]
  },
  {
   "cell_type": "code",
   "execution_count": 12,
   "metadata": {},
   "outputs": [
    {
     "name": "stdout",
     "output_type": "stream",
     "text": [
      "The error made on estimating the slope  0.28  (to be compared with the value of slope 1.33  )\n"
     ]
    }
   ],
   "source": [
    "x_=np.sum(x)/n\n",
    "sigmabeta1 = np.sqrt(sigma**2/(np.sum((x-x_)**2)))\n",
    "print('The error made on estimating the slope ',round(sigmabeta1,2),' (to be compared with the value of slope', round(hatbeta[1],2),' )')"
   ]
  },
  {
   "cell_type": "markdown",
   "metadata": {},
   "source": [
    "<b> (c) Compute the p value associate with this linear regression and explain what it represents. \n",
    "=> you need first to compute $z$, and then compute what is the probability of having observed a $z$ with that value of higher (in absolute value). \n",
    "\n",
    "Then compute $z_1$ as on slide 28 to get the boundary value of $z$ for acceptance or rejection of the null hypothesis. </b>\n",
    "\n",
    "\n",
    "hint: you need to estimate the value of sigma from the dataset for this, and rely on formula for $z$ on slide 28\n",
    "\n",
    "hint 2: use the following functions\n",
    "\n",
    "t.pdf(...,df) = Probability Density Function (PDF): Returns the probability for an observation having a specific value from the distribution (df = number of degrees of freedom of the t distribution).\n",
    "\n",
    "t.cdf(...,df) = Cumulative Density Function (CDF): Returns the probability for an observation equal to or lesser than a specific value from the distribution.\n",
    "\n",
    "t.ppf(..., df) = Percent Point Function (PPF): Returns the observation value for the provided probability that is less than or equal to the provided probability from the distribution."
   ]
  },
  {
   "cell_type": "code",
   "execution_count": null,
   "metadata": {},
   "outputs": [],
   "source": []
  },
  {
   "cell_type": "code",
   "execution_count": 13,
   "metadata": {},
   "outputs": [
    {
     "name": "stdout",
     "output_type": "stream",
     "text": [
      "4.695341420065524\n"
     ]
    }
   ],
   "source": [
    "myz = (hatbeta1-0)/(sigmabeta1)\n",
    "print(myz)"
   ]
  },
  {
   "cell_type": "code",
   "execution_count": 14,
   "metadata": {},
   "outputs": [],
   "source": [
    "df=n-2"
   ]
  },
  {
   "cell_type": "code",
   "execution_count": 15,
   "metadata": {},
   "outputs": [
    {
     "name": "stdout",
     "output_type": "stream",
     "text": [
      "0.002398411009045113\n"
     ]
    }
   ],
   "source": [
    "#this is the p-value: \n",
    "p = t.pdf(myz,df)\n",
    "print(p)"
   ]
  },
  {
   "cell_type": "code",
   "execution_count": 16,
   "metadata": {},
   "outputs": [
    {
     "name": "stdout",
     "output_type": "stream",
     "text": [
      "0.0010509880733780687\n"
     ]
    }
   ],
   "source": [
    "# here is how to do this with a black box: \n",
    "slope, intercept, r_value, p_value, std_err = stats.linregress(x,y)\n",
    "print(p_value)"
   ]
  },
  {
   "cell_type": "markdown",
   "metadata": {},
   "source": [
    "If it is less than 5 percent, I reject my null hypothesis and I claim that there is a linear relationship between $x$ and $y$. \n",
    "The quality of the fit is given by (see slide 29):"
   ]
  },
  {
   "cell_type": "code",
   "execution_count": 17,
   "metadata": {},
   "outputs": [
    {
     "data": {
      "text/plain": [
       "0.902282838206334"
      ]
     },
     "execution_count": 17,
     "metadata": {},
     "output_type": "execute_result"
    }
   ],
   "source": [
    "y_=np.mean(y)\n",
    "TSS = np.sum((y-y_)**2)\n",
    "RSS = np.sum((y-hatbeta0-hatbeta1*x)**2)\n",
    "1-RSS/TSS  #this is the proportion of the variance explained"
   ]
  },
  {
   "cell_type": "code",
   "execution_count": 18,
   "metadata": {},
   "outputs": [
    {
     "name": "stdout",
     "output_type": "stream",
     "text": [
      "-2.57058183661474 2.5705818366147395\n"
     ]
    }
   ],
   "source": [
    "p_max = 0.975\n",
    "# retrieve value <= probability\n",
    "max_z = t.ppf(p_max,df)\n",
    "p_min = 0.025\n",
    "# retrieve value <= probability\n",
    "min_z = t.ppf(p_min,df)\n",
    "print(min_z,max_z)"
   ]
  },
  {
   "cell_type": "code",
   "execution_count": 19,
   "metadata": {
    "scrolled": true
   },
   "outputs": [
    {
     "data": {
      "image/png": "[encoded data removed]",
      "text/plain": [
       "<Figure size 432x288 with 1 Axes>"
      ]
     },
     "metadata": {
      "needs_background": "light"
     },
     "output_type": "display_data"
    }
   ],
   "source": [
    "\n",
    "fig, ax = plt.subplots(1, 1)\n",
    "df = n-2# number of degree of freedom (the -2 is because we estimated two parameters)\n",
    "\n",
    "x_fig = np.linspace(t.ppf(0.005, df),t.ppf(0.995, df), 100)\n",
    "\n",
    "ax.plot(x_fig, t.pdf(x_fig, df),'r-', lw=2, alpha=0.6, label='t-distribution')\n",
    "ax.plot(x_fig, stats.norm.pdf(x_fig),'g--', lw=2, alpha=0.6, label='norm')\n",
    "\n",
    "\n",
    "ax.vlines(myz,ymin=0,ymax=.5 )\n",
    "ax.vlines(max_z,colors='r',ymin=0,ymax=.5)\n",
    "ax.vlines(min_z,colors='r',ymin=0,ymax=.5)\n",
    "\n",
    "ax.legend(loc='upper left', frameon=False)\n",
    "ax.set_xlabel('z')\n",
    "ax.set_ylabel('p(z)')\n",
    "plt.savefig('linreg2.png')\n",
    "plt.show()"
   ]
  },
  {
   "cell_type": "markdown",
   "metadata": {},
   "source": [
    "If the blue line is far from the peak of the distribution (futher than the red lines), it is very unlikely to observe that \"z-value\" under the null hypothesis => we reject it and accept the fact that there is a linear relation between x and y. "
   ]
  },
  {
   "cell_type": "code",
   "execution_count": 20,
   "metadata": {},
   "outputs": [
    {
     "name": "stdout",
     "output_type": "stream",
     "text": [
      "0.0010509880733780687\n"
     ]
    }
   ],
   "source": [
    "# FYI - with a black box: \n",
    "slope, intercept, r_value, p_value, std_err = stats.linregress(x,y)\n",
    "print(p_value)"
   ]
  },
  {
   "cell_type": "markdown",
   "metadata": {},
   "source": [
    "(d) it is just a check: the $z_{min}$ and $z_{max}$ values (cf slide 28) by integrating the probability distribution => it should give 0.95: "
   ]
  },
  {
   "cell_type": "code",
   "execution_count": 21,
   "metadata": {
    "scrolled": true
   },
   "outputs": [
    {
     "data": {
      "text/plain": [
       "(0.9500000000593667, 1.8245557756633303e-13)"
      ]
     },
     "execution_count": 21,
     "metadata": {},
     "output_type": "execute_result"
    }
   ],
   "source": [
    "import scipy.integrate as integrate\n",
    "\n",
    "from scipy.integrate import quad\n",
    "\n",
    "def integrand(x, df):\n",
    "\n",
    "    return t.pdf(x, df)\n",
    "\n",
    "I = quad(integrand, min_z, max_z, args=(df))\n",
    "\n",
    "I"
   ]
  },
  {
   "cell_type": "markdown",
   "metadata": {},
   "source": [
    "(e) Repeat (a) 100 times for different dataset (to be build similarly as above) and represent the obtained $\\hat \\beta_1$ with an histogram "
   ]
  },
  {
   "cell_type": "code",
   "execution_count": 22,
   "metadata": {},
   "outputs": [],
   "source": [
    "def estbeta(x,y):\n",
    "    Y=np.array(y)\n",
    "    b=np.dot(inXtX,Xt)\n",
    "    return np.dot(b,Y)"
   ]
  },
  {
   "cell_type": "code",
   "execution_count": 23,
   "metadata": {},
   "outputs": [],
   "source": [
    "def estsigma(x,y,hatbeta):\n",
    "    Xb=np.dot(X,hatbeta).reshape(n,1)\n",
    "    Y=np.array(y)\n",
    "    Y=Y.reshape(n,1)\n",
    "    YXb=Y-Xb\n",
    "    YXbt=np.transpose(YXb)\n",
    "    MSE=(1/n)*(np.dot(YXbt,YXb))\n",
    "    return np.sqrt(n*MSE/(n-2))[0][0]"
   ]
  },
  {
   "cell_type": "code",
   "execution_count": 24,
   "metadata": {},
   "outputs": [],
   "source": [
    "number_of_iterations = 100\n",
    "beta1_evaluations = np.zeros(number_of_iterations)\n",
    "beta1_evaluations_over_sigma = np.zeros(number_of_iterations)\n",
    "sigma_evaluations = np.zeros(number_of_iterations)\n",
    "\n",
    "for kk in range(number_of_iterations):\n",
    "    y = np.array([ f(x[ii],beta) + np.random.normal(0,sigma) for ii in range(len(x))])\n",
    "\n",
    "    betas=estbeta(x,y)\n",
    "    beta1_evaluations[kk] = betas[1]\n",
    "    sigma_evaluations[kk] = estsigma(x,y,betas)\n",
    "    beta1_evaluations_over_sigma[kk] = betas[1]/sigma_evaluations[kk]"
   ]
  },
  {
   "cell_type": "code",
   "execution_count": 25,
   "metadata": {},
   "outputs": [
    {
     "data": {
      "image/png": "[encoded data removed]",
      "text/plain": [
       "<Figure size 432x288 with 1 Axes>"
      ]
     },
     "metadata": {
      "needs_background": "light"
     },
     "output_type": "display_data"
    }
   ],
   "source": [
    "plt.hist(beta1_evaluations)\n",
    "plt.title(r'Distribution of estimations of $\\hat{\\beta}_1$')\n",
    "plt.show()"
   ]
  },
  {
   "cell_type": "code",
   "execution_count": 26,
   "metadata": {},
   "outputs": [],
   "source": [
    "if False:\n",
    "    #to get info about a function, place a ? in front and run in a cell\n",
    "    ?stats.chi2.fit"
   ]
  },
  {
   "cell_type": "markdown",
   "metadata": {},
   "source": [
    "Check that the number of dof of the chi2 distribution is given by n-2 (here 2 because we estimated two parameters):"
   ]
  },
  {
   "cell_type": "code",
   "execution_count": 27,
   "metadata": {},
   "outputs": [
    {
     "data": {
      "text/plain": [
       "(164.10972847971817, -43.17609242179503, 0.4080627974066138)"
      ]
     },
     "execution_count": 27,
     "metadata": {},
     "output_type": "execute_result"
    }
   ],
   "source": [
    "df_estimate,loc_estimate, scale_estimate  = stats.chi2.fit(sigma_evaluations)\n",
    "df_estimate,loc_estimate, scale_estimate"
   ]
  },
  {
   "cell_type": "code",
   "execution_count": 28,
   "metadata": {},
   "outputs": [
    {
     "data": {
      "image/png": "[encoded data removed]",
      "text/plain": [
       "<Figure size 432x288 with 1 Axes>"
      ]
     },
     "metadata": {
      "needs_background": "light"
     },
     "output_type": "display_data"
    }
   ],
   "source": [
    "#this should be a chi-2 distribution with n-p dof (so here n=7 and p=2 => 5dof)\n",
    "plt.figure(tight_layout = True)\n",
    "\n",
    "fkfq , bins_S, abc = plt.hist(sigma_evaluations, density=1, alpha=0.5)\n",
    "\n",
    "plt.title('Distribution of estimations of $\\hat{\\sigma}$')\n",
    "best_fit_line_chi2 = stats.chi2.pdf(bins_S,df_estimate, loc_estimate, scale_estimate)\n",
    "plt.plot(bins_S,best_fit_line_chi2,label='chi2-distr')\n",
    "plt.xlabel('$\\hat{\\sigma}$')\n",
    "plt.ylabel('freq.')\n",
    "plt.legend()\n",
    "plt.savefig('linreg3.png')\n",
    "plt.show()"
   ]
  },
  {
   "cell_type": "markdown",
   "metadata": {},
   "source": [
    "(f) What is the probability distriubtion of the estimated values $\\hat \\beta_1 / \\sigma_{\\beta_1}$. Comment your answer. Hint: use stats.norm.fit"
   ]
  },
  {
   "cell_type": "code",
   "execution_count": 29,
   "metadata": {
    "scrolled": true
   },
   "outputs": [
    {
     "name": "stdout",
     "output_type": "stream",
     "text": [
      "0.07013768098122991 0.04447473525644673\n"
     ]
    }
   ],
   "source": [
    "mu_normal_fit, sigma_normal_fit = stats.norm.fit(beta1_evaluations_over_sigma)\n",
    "print(mu_normal_fit, sigma_normal_fit)"
   ]
  },
  {
   "cell_type": "code",
   "execution_count": 30,
   "metadata": {},
   "outputs": [],
   "source": [
    "z_evaluations = beta1_evaluations_over_sigma"
   ]
  },
  {
   "cell_type": "code",
   "execution_count": 31,
   "metadata": {
    "scrolled": true
   },
   "outputs": [
    {
     "data": {
      "image/png": "[encoded data removed]",
      "text/plain": [
       "<Figure size 432x288 with 1 Axes>"
      ]
     },
     "metadata": {
      "needs_background": "light"
     },
     "output_type": "display_data"
    }
   ],
   "source": [
    "plt.figure(tight_layout = True)\n",
    "\n",
    "_, bins, _ = plt.hist(z_evaluations, density=1, alpha=0.5)\n",
    "\n",
    "best_fit_line = stats.norm.pdf(bins, mu_normal_fit, sigma_normal_fit)\n",
    "\n",
    "df_est, loc_est, scale_est = t.fit(z_evaluations) #fiting to a t-student distribution \n",
    "best_fit_line_t = stats.t.pdf(bins,df_est, loc_est, scale_est)\n",
    "\n",
    "plt.plot(bins, best_fit_line,label='normal')\n",
    "plt.plot(bins,best_fit_line_t,label='t-distr')\n",
    "\n",
    "plt.title('z-values')\n",
    "plt.xlabel('estimation of z')\n",
    "plt.ylabel('freq.')\n",
    "plt.legend()\n",
    "plt.show()"
   ]
  },
  {
   "cell_type": "markdown",
   "metadata": {},
   "source": [
    "# Exercise: Linear discriminant analysis: pink vs green"
   ]
  },
  {
   "cell_type": "markdown",
   "metadata": {},
   "source": [
    "We start with a labelled data set whose inputs are : "
   ]
  },
  {
   "cell_type": "code",
   "execution_count": 32,
   "metadata": {
    "code_folding": []
   },
   "outputs": [],
   "source": [
    "X = np.array([1.75860969,  1.21822739, -1.26356318,  2.91537812,  3.10517506,\n",
    "        3.08995169,  1.73663264,  1.417986  ,  2.97874194,  1.02612401,\n",
    "        1.44476555,  0.57531973,  0.26809148,  4.09974131,  2.50400378,\n",
    "        2.99089042,  0.57560659,  1.82877472,  1.4679634 ,  2.43664457,\n",
    "        1.97868673, -0.80911347,  1.55322051,  1.24100934,  2.39248028,\n",
    "        3.83483408,  3.1876462 ,  3.55671585,  1.38558747,  3.30074664,\n",
    "        2.75590294,  2.32096285,  2.85548297,  2.32616711, -1.57455353,\n",
    "        2.4311101 ,  2.55119646,  2.90450118,  2.00737857,  0.01656822,-1.19331961,  0.68029264, -1.40977742, -1.57572063, -2.65345905,\n",
    "       -2.16083126,  0.8167179 ,  0.05211783, -3.24852015, -2.09097824,\n",
    "       -1.77366778, -1.38219704, -3.38111373, -5.17816507, -0.97002885,\n",
    "       -2.03895265, -0.99034122,  0.39721913, -0.08746797, -2.97716289,\n",
    "       -4.69607405, -3.19356515, -0.90374167, -2.6196549 ,  0.2500216 ,\n",
    "       -3.35646837, -1.59124805,  0.04690309, -4.48707835, -2.65187787,\n",
    "       -1.30699669, -3.7194796 , -2.50237985, -1.19258543, -1.77802654,\n",
    "       -2.4663718 , -0.64556797, -1.3099631 , -3.26836737,  1.89202167])"
   ]
  },
  {
   "cell_type": "code",
   "execution_count": 33,
   "metadata": {},
   "outputs": [
    {
     "data": {
      "text/plain": [
       "(80,)"
      ]
     },
     "execution_count": 33,
     "metadata": {},
     "output_type": "execute_result"
    }
   ],
   "source": [
    "X.shape"
   ]
  },
  {
   "cell_type": "markdown",
   "metadata": {},
   "source": [
    "and outputs (here all pink outputs are listed first) :"
   ]
  },
  {
   "cell_type": "code",
   "execution_count": 34,
   "metadata": {},
   "outputs": [],
   "source": [
    "Y = np.array(['pink','pink','pink','pink','pink','pink','pink','pink','pink','pink','pink','pink','pink','pink','pink','pink','pink','pink','pink','pink','pink','pink','pink','pink','pink','pink','pink','pink','pink','pink','pink','pink','pink','pink','pink','pink','pink','pink','pink','pink','green','green','green','green','green','green','green','green','green','green','green','green','green','green','green','green','green','green','green','green','green','green','green','green','green','green','green','green','green','green','green','green','green','green','green','green','green','green','green','green'])"
   ]
  },
  {
   "cell_type": "code",
   "execution_count": 35,
   "metadata": {},
   "outputs": [
    {
     "data": {
      "text/plain": [
       "(80,)"
      ]
     },
     "execution_count": 35,
     "metadata": {},
     "output_type": "execute_result"
    }
   ],
   "source": [
    "Y.shape"
   ]
  },
  {
   "cell_type": "markdown",
   "metadata": {},
   "source": [
    "Define an array containing only the 'pink' inputs and one containing only the 'green'inputs:"
   ]
  },
  {
   "cell_type": "code",
   "execution_count": 36,
   "metadata": {},
   "outputs": [],
   "source": [
    "pink_indices = np.where(Y=='pink')[0]\n",
    "pink = X[pink_indices]\n",
    "green_indices = np.where(Y=='green')[0]\n",
    "green = X[green_indices]"
   ]
  },
  {
   "cell_type": "markdown",
   "metadata": {},
   "source": [
    "## Coding a LDA "
   ]
  },
  {
   "cell_type": "markdown",
   "metadata": {},
   "source": [
    "Our goal will be to perform a linear discriminant analysis. In the case of two categories (as here with the pink and green categories), this amounts to find the boundary of decision $x^\\star$. If the input $x$ is larger than $x^\\star$ it belongs to the category for which the mean value of $x$ is larger, and if $x$ is smaller than $x^\\star$ it belongs to the other category. \n",
    "\n",
    "REM: we can also decide to focuss on only one category, let say the pink category, and decide to assign a sample to this category if if the probability of belonging to this category is higher than 60% for instance (instead of the more \"natural\" choice of 50 %) => this amounts to change the threshold. \n",
    "\n",
    "Here we want to evaluate \n",
    "\n",
    "$p_{\\text{green}} (x)$ and \n",
    "\n",
    "$p_{\\text{pink}} (x)$.\n",
    "\n",
    "\n",
    "We can use the formula: \n",
    "\n",
    "$p_k(x) = \\frac{ \\frac{\\pi_k}{\\sqrt{2 \\pi }\\sigma} \\exp{(- \\frac{1}{2 \\sigma^2}(x - \\mu_k)^2 )} }{N} $   (with $k =$ pink, green)\n",
    "\n",
    "if we have estimations for $\\pi_k$, $\\mu_k$ and $\\sigma$. $N$ is a normalisation factor. \n"
   ]
  },
  {
   "cell_type": "markdown",
   "metadata": {},
   "source": [
    "\n",
    "<b> Estimate of the means for both categories: "
   ]
  },
  {
   "cell_type": "code",
   "execution_count": 37,
   "metadata": {},
   "outputs": [
    {
     "name": "stdout",
     "output_type": "stream",
     "text": [
      "Mean value of pink samples is  1.91 and of green samples  -1.77\n"
     ]
    }
   ],
   "source": [
    "mu_p_hat=np.mean(pink)\n",
    "mu_g_hat=np.mean(green)\n",
    "print('Mean value of pink samples is ',round(mu_p_hat,2),'and of green samples ', round(mu_g_hat,2))\n"
   ]
  },
  {
   "cell_type": "markdown",
   "metadata": {},
   "source": [
    "Clearly, samples with a value close to 2 will be more likely to be pink and samples with a value close to -1.5 will be more likely to be green. "
   ]
  },
  {
   "cell_type": "markdown",
   "metadata": {},
   "source": [
    "<b> Estimate sigma for the whole data set (see slides):\n",
    "\n",
    "$\\hat \\sigma^2  = \\frac{1}{n-K} \\sum_k \\sum_i (x_i - \\hat \\mu_k)^2$ \n",
    "\n",
    "where $K$ is the number of categories (here 2), the first sum is over catergories and the second over the samples within the given category: \n",
    "\n",
    "$\\hat \\sigma^2  = \\frac{1}{n-2} ( \\sum_{i \\text{ for pink samples}} (x_i - \\hat \\mu_p)^2 \\, + \\, \\sum_{i \\text{ for green samples}} (x_i - \\hat \\mu_g)^2)$ \n"
   ]
  },
  {
   "cell_type": "code",
   "execution_count": 38,
   "metadata": {},
   "outputs": [
    {
     "data": {
      "text/plain": [
       "2.112184851490507"
      ]
     },
     "execution_count": 38,
     "metadata": {},
     "output_type": "execute_result"
    }
   ],
   "source": [
    "pink_normalized = pink-mu_p_hat\n",
    "green_normalized = green-mu_g_hat\n",
    "\n",
    "sigma_hat_2 = (1/78)*((np.sum((pink_normalized**2)))+(np.sum((green_normalized**2))))\n",
    "sigma_hat_2"
   ]
  },
  {
   "cell_type": "markdown",
   "metadata": {},
   "source": [
    "<b> Estimate $\\pi_{\\text{green}}$ and $\\pi_{\\text{pink}}$ (this is easy, it is simply the fractions of green and pink samples): "
   ]
  },
  {
   "cell_type": "code",
   "execution_count": 39,
   "metadata": {},
   "outputs": [],
   "source": [
    "pi_green = len(green)/80\n",
    "pi_pink = len(pink)/80"
   ]
  },
  {
   "cell_type": "code",
   "execution_count": 40,
   "metadata": {},
   "outputs": [
    {
     "name": "stdout",
     "output_type": "stream",
     "text": [
      "0.5 0.5\n"
     ]
    }
   ],
   "source": [
    "print(pi_pink,pi_green)"
   ]
  },
  {
   "cell_type": "markdown",
   "metadata": {},
   "source": [
    "<b> Find the boundary value $x^\\star$ for decision. You need to solve (by hand) the equation $\\delta_{\\text{pink}}(x^\\star) = \\delta_{\\text{green}}(x^\\star)$ (see slide 19):  \n",
    "\n",
    "\n",
    "$\\delta_k (x) =  x \\, \\frac{\\mu_k}{\\sigma^2} - \\frac{\\mu_k^2}{2 \\, \\sigma^2} + \\log{(\\pi_k)} $\n",
    "\n",
    "\n",
    "In the present case, we want to have $\\pi_{\\text{green}} = \\pi_{\\text{pink}}$ and the equation $\\delta_{\\text{pink}}(x^\\star) = \\delta_{\\text{green}}(x^\\star)$ reads\n",
    "\n",
    "$ x^\\star \\, \\frac{\\mu_{\\text{pink}}}{\\sigma^2} - \\frac{\\mu_{\\text{pink}}^2}{2 \\, \\sigma^2} + \\log{(\\pi_{\\text{pink}})} = x^\\star \\, \\frac{\\mu_{\\text{green}}}{\\sigma^2} - \\frac{\\mu_{\\text{green}}^2}{2 \\, \\sigma^2} + \\log{(\\pi_{\\text{green}})} $\n",
    "\n",
    "and gets actually very simple, \n",
    " \n",
    " $ x^\\star \\, \\mu_{\\text{pink}} - \\frac{\\mu_{\\text{pink}}^2}{2 }  = x^\\star \\, \\mu_{\\text{green}} - \\frac{\\mu_{\\text{green}}^2}{2}  $.\n",
    " \n",
    " We deduce that\n",
    " \n",
    " $x^\\star = \\frac{\\mu_{\\text{pink}}^2 - \\mu_{\\text{green}}^2}{ 2 \\, (\\mu_{\\text{pink}}-\\mu_{\\text{green}})}$\n"
   ]
  },
  {
   "cell_type": "code",
   "execution_count": 41,
   "metadata": {},
   "outputs": [
    {
     "data": {
      "text/plain": [
       "0.07157173687500006"
      ]
     },
     "execution_count": 41,
     "metadata": {},
     "output_type": "execute_result"
    }
   ],
   "source": [
    "#writing delta_pink = delta_green gives us the boundary value for an new observation \n",
    "#to be classified as green or pink \n",
    "\n",
    "x_boundary = (mu_p_hat**2-mu_g_hat**2)/(2*(mu_p_hat-mu_g_hat))\n",
    "x_boundary"
   ]
  },
  {
   "cell_type": "markdown",
   "metadata": {},
   "source": [
    "<b> Plot the histogram (just need to have defined x_boundary and the plotting will work):"
   ]
  },
  {
   "cell_type": "code",
   "execution_count": 42,
   "metadata": {},
   "outputs": [
    {
     "data": {
      "image/png": "[encoded data removed]",
      "text/plain": [
       "<Figure size 720x432 with 1 Axes>"
      ]
     },
     "metadata": {
      "needs_background": "light"
     },
     "output_type": "display_data"
    }
   ],
   "source": [
    "rng = np.random.RandomState(10)  # deterministic random data\n",
    "bins=np.linspace(-20,20,100)\n",
    "bins=np.append(bins,np.max([np.max(pink),np.max(green)]))\n",
    "a = np.hstack((pink,green))\n",
    "plt.figure(figsize=(10,6))\n",
    "plt.ylim(top=np.max(bins))\n",
    "y1, x1,_ = plt.hist(pink, bins='auto',alpha=.4,color='pink',label='pink histogram')  # alpha level => transparent color (in case histog. overlap)\n",
    "y2, x2,_ = plt.hist(green,bins='auto',alpha=.4,color='green',label='green histogram')\n",
    "plt.ylim([0,1.1*np.max(np.array([y1,y2]))])\n",
    "plt.axvline(x_boundary,label='boundary value')\n",
    "plt.title(\"Histogram\")\n",
    "plt.xlabel('x')\n",
    "plt.ylabel('frequency')\n",
    "plt.legend(loc='upper left')\n",
    "plt.show()"
   ]
  },
  {
   "cell_type": "markdown",
   "metadata": {},
   "source": [
    "If you have a new input $x$ for which we do not know the catergory, the LDA will assign this new input to the pink categroy if $x$ is bigger than $x^\\star$ and to the green one if $x$ is smaller than $x^\\star$ (for a threshold of 50%). "
   ]
  },
  {
   "cell_type": "markdown",
   "metadata": {},
   "source": [
    "<b> For information: the dataset has been generated with the following code</b>"
   ]
  },
  {
   "cell_type": "code",
   "execution_count": 43,
   "metadata": {},
   "outputs": [],
   "source": [
    "if False:  #I put this \"if False\" not to generate a new dataset\n",
    "    mu_p = 2\n",
    "    mu_g = -2\n",
    "    sigma = 1.5\n",
    "    number_points = 40\n",
    "    pink = np.random.normal(mu_p,sigma,number_points)\n",
    "    green = np.random.normal(mu_g,sigma,number_points)\n",
    "    n = 2*number_points"
   ]
  },
  {
   "cell_type": "markdown",
   "metadata": {},
   "source": [
    "The actual \"input\" data X is given by the pink and green arrays. Here we have drawn inputs for the two categries (pink and green) from gaussian distributions with the same variance but different means. This actually corresponds to the hypothesis we make in the LDA, i.e. we assume that inside each category, samples are gaussianly distributed. We could define it as: "
   ]
  },
  {
   "cell_type": "code",
   "execution_count": 44,
   "metadata": {},
   "outputs": [],
   "source": [
    "if False:\n",
    "    X=np.concatenate((green,pink),axis=0)"
   ]
  },
  {
   "cell_type": "markdown",
   "metadata": {},
   "source": [
    "The \"output\" vector y is then y = ('green', 'green', ... , 'pink','pink') with 40 x 'green' and 40 x 'pink'. We could also assign an integer to each category. Let's say that 'green' = 0 and 'pink' = 1 for instance. Then y = (0,0,...,1,1,...). \n"
   ]
  },
  {
   "cell_type": "markdown",
   "metadata": {},
   "source": [
    "## Assessing the training error \n",
    "\n",
    "Using the threshold value of x we computed, we can see to which category all samples would be assigned. "
   ]
  },
  {
   "cell_type": "code",
   "execution_count": 45,
   "metadata": {},
   "outputs": [
    {
     "data": {
      "text/plain": [
       "array([-1.19331961,  0.68029264, -1.40977742, -1.57572063, -2.65345905,\n",
       "       -2.16083126,  0.8167179 ,  0.05211783, -3.24852015, -2.09097824,\n",
       "       -1.77366778, -1.38219704, -3.38111373, -5.17816507, -0.97002885,\n",
       "       -2.03895265, -0.99034122,  0.39721913, -0.08746797, -2.97716289,\n",
       "       -4.69607405, -3.19356515, -0.90374167, -2.6196549 ,  0.2500216 ,\n",
       "       -3.35646837, -1.59124805,  0.04690309, -4.48707835, -2.65187787,\n",
       "       -1.30699669, -3.7194796 , -2.50237985, -1.19258543, -1.77802654,\n",
       "       -2.4663718 , -0.64556797, -1.3099631 , -3.26836737,  1.89202167])"
      ]
     },
     "execution_count": 45,
     "metadata": {},
     "output_type": "execute_result"
    }
   ],
   "source": [
    "# all 'green' elements in our labelled data set have the following \"x\" values: \n",
    "green"
   ]
  },
  {
   "cell_type": "markdown",
   "metadata": {},
   "source": [
    "Let us look which of those would been correctly assigned with our obtained threshold: (use green < x_boundary and np.sum), this is the true positive rate:"
   ]
  },
  {
   "cell_type": "code",
   "execution_count": 46,
   "metadata": {},
   "outputs": [
    {
     "data": {
      "text/plain": [
       "35"
      ]
     },
     "execution_count": 46,
     "metadata": {},
     "output_type": "execute_result"
    }
   ],
   "source": [
    "#gegeven output: 35\n",
    "sg=0\n",
    "for i in range(40):\n",
    "    if green[i]<x_boundary:\n",
    "        sg+=1\n",
    "sg"
   ]
  },
  {
   "cell_type": "markdown",
   "metadata": {},
   "source": [
    "\n",
    "Similarly, we will have the following number of correclty classified pink samples:"
   ]
  },
  {
   "cell_type": "code",
   "execution_count": 47,
   "metadata": {},
   "outputs": [
    {
     "data": {
      "text/plain": [
       "36"
      ]
     },
     "execution_count": 47,
     "metadata": {},
     "output_type": "execute_result"
    }
   ],
   "source": [
    "#gegeven output: 36\n",
    "sp=0\n",
    "correct_pink=[]\n",
    "for i in range(40):\n",
    "    if pink[i]>x_boundary:\n",
    "        sp+=1\n",
    "        correct_pink.append(pink[i])\n",
    "sp\n"
   ]
  },
  {
   "cell_type": "markdown",
   "metadata": {},
   "source": [
    "Let us focus on the pink category. We can compute the \n",
    "\n",
    "- true positive rate : number of correclty classified pink samples. \n",
    "- false positive rate : number of samples classified as pink while they are green. \n",
    "\n"
   ]
  },
  {
   "cell_type": "code",
   "execution_count": 48,
   "metadata": {},
   "outputs": [
    {
     "name": "stdout",
     "output_type": "stream",
     "text": [
      "true positive rate is  0.9\n",
      "false positive rate is  0.125\n"
     ]
    }
   ],
   "source": [
    "#gegeven output: true positive rate is  0.9 , false positive rate is  0.125\n",
    "true_positive_rate = sp/len(pink)\n",
    "print('true positive rate is ',true_positive_rate)\n",
    "\n",
    "false_positive_rate = (len(pink)-sg)/len(pink)\n",
    "print('false positive rate is ',false_positive_rate)"
   ]
  },
  {
   "cell_type": "markdown",
   "metadata": {},
   "source": [
    "\n",
    "<b> Do a ROC figure.</b>\n",
    "\n",
    "Let us focus on the pink category. The typical choice is to assign an input $x$ to the pink category is if p_pink(x)>.5. \n",
    "\n",
    "However we could choose to be more or less 'cautious' and decide to assign $x$ to the pink category if p_pink(x) > .1,.2,.3,.4,.5,.6,..\n",
    "\n",
    "For this, we need to evaluate \n",
    "\n",
    "$$p_k(x) = \\frac{ \\frac{\\pi_k}{\\sqrt{2 \\pi} \\sigma} \\exp{(- \\frac{1}{2 \\sigma^2}(x - \\mu_k)^2 )} }{N} $$\n",
    "\n",
    "We can first compute the \"not normalize $p_k(x)$\": \n"
   ]
  },
  {
   "cell_type": "code",
   "execution_count": 49,
   "metadata": {},
   "outputs": [],
   "source": [
    "sigma_hat = np.sqrt(sigma_hat_2)"
   ]
  },
  {
   "cell_type": "code",
   "execution_count": 50,
   "metadata": {},
   "outputs": [],
   "source": [
    "p_pink_notnorm = ((pi_pink/(np.sqrt(2*np.pi)*sigma_hat))*np.exp((-1/(2*(sigma_hat**2)))*((pink-mu_p_hat)**2)))/80\n",
    "p_green_notnorm =((pi_green/(np.sqrt(2*np.pi)*sigma_hat))*np.exp((-1/(2*(sigma_hat**2)))*((green-mu_g_hat)**2)))/80\n"
   ]
  },
  {
   "cell_type": "code",
   "execution_count": 51,
   "metadata": {},
   "outputs": [
    {
     "data": {
      "text/plain": [
       "-1.7666464115"
      ]
     },
     "execution_count": 51,
     "metadata": {},
     "output_type": "execute_result"
    }
   ],
   "source": [
    "mu_g_hat"
   ]
  },
  {
   "cell_type": "markdown",
   "metadata": {},
   "source": [
    "Compute the normalisation factor $N$ for each input:"
   ]
  },
  {
   "cell_type": "code",
   "execution_count": 52,
   "metadata": {},
   "outputs": [],
   "source": [
    "N_hat =  [p_pink_notnorm[kk]+p_green_notnorm[kk] for kk in range(len(pink))]\n"
   ]
  },
  {
   "cell_type": "markdown",
   "metadata": {},
   "source": [
    "Compute the p_pink and p_green"
   ]
  },
  {
   "cell_type": "code",
   "execution_count": 53,
   "metadata": {},
   "outputs": [
    {
     "name": "stdout",
     "output_type": "stream",
     "text": [
      "40\n"
     ]
    }
   ],
   "source": [
    "p_pink = [p_pink_notnorm[kk]/N_hat[kk] for kk in range(len(pink))]\n",
    "p_green = [p_green_notnorm[kk]/N_hat[kk] for kk in range(len(green))]\n",
    "print(len(p_pink))"
   ]
  },
  {
   "cell_type": "code",
   "execution_count": 54,
   "metadata": {},
   "outputs": [],
   "source": [
    "#check normalisation\n",
    "#[p_pink[k]+p_green[k] for k in range(len(X))]"
   ]
  },
  {
   "cell_type": "markdown",
   "metadata": {},
   "source": [
    "Define an array containing the probability of being pink for true pink samples, and one with the probability of pink for not pink samples : "
   ]
  },
  {
   "cell_type": "code",
   "execution_count": 55,
   "metadata": {},
   "outputs": [
    {
     "name": "stdout",
     "output_type": "stream",
     "text": [
      "[ 1.75860969  1.21822739 -1.26356318  2.91537812  3.10517506  3.08995169\n",
      "  1.73663264  1.417986    2.97874194  1.02612401  1.44476555  0.57531973\n",
      "  0.26809148  4.09974131  2.50400378  2.99089042  0.57560659  1.82877472\n",
      "  1.4679634   2.43664457  1.97868673 -0.80911347  1.55322051  1.24100934\n",
      "  2.39248028  3.83483408  3.1876462   3.55671585  1.38558747  3.30074664\n",
      "  2.75590294  2.32096285  2.85548297  2.32616711 -1.57455353  2.4311101\n",
      "  2.55119646  2.90450118  2.00737857  0.01656822]\n"
     ]
    }
   ],
   "source": [
    "print(pink)"
   ]
  },
  {
   "cell_type": "code",
   "execution_count": 56,
   "metadata": {},
   "outputs": [
    {
     "name": "stdout",
     "output_type": "stream",
     "text": [
      "35 3 37 5\n"
     ]
    }
   ],
   "source": [
    "def cat(x_boundary):\n",
    "    true_pink=[]\n",
    "    false_pink=[]\n",
    "    true_green=[]\n",
    "    false_green=[]\n",
    "    for i in range(len(pink)):\n",
    "        if pink[i]<x_boundary:\n",
    "            false_green.append(pink[i])\n",
    "        else:\n",
    "            true_pink.append(pink[i])\n",
    "        if green[i]>=x_boundary:\n",
    "            false_pink.append(green[i])\n",
    "        else:\n",
    "            true_green.append(green[i])\n",
    "    return true_pink,false_pink,true_green,false_green\n",
    "tp,fp,tg,fg=cat(0.5)\n",
    "print(len(tp),len(fp),len(tg),len(fg))"
   ]
  },
  {
   "cell_type": "code",
   "execution_count": 57,
   "metadata": {},
   "outputs": [
    {
     "name": "stdout",
     "output_type": "stream",
     "text": [
      "36\n",
      "4\n"
     ]
    }
   ],
   "source": [
    "#p_pink_for_true_pink should be an array whose length is the number of “true pink” samples \n",
    "#and which contains the probability of being pink for each of those samples. \n",
    "#You can use np.where in the output vector to find the location of the pink samples. \n",
    "#(most values should be close to one because the classes are well separated).\n",
    "\n",
    "number_of_pink = len(pink)\n",
    "p_pink_for_true_pink = []\n",
    "p_pink_for_not_pink = []\n",
    "\n",
    "for i in range(number_of_pink):\n",
    "\n",
    "    if pink[i] in correct_pink:\n",
    "        p_pink_for_true_pink.append(p_pink[i])\n",
    "    else:\n",
    "        p_pink_for_not_pink.append(p_pink[i])\n",
    "\n",
    "\n",
    "\n",
    "print(len(p_pink_for_true_pink))\n",
    "print(len(p_pink_for_not_pink))"
   ]
  },
  {
   "cell_type": "code",
   "execution_count": 58,
   "metadata": {},
   "outputs": [
    {
     "name": "stdout",
     "output_type": "stream",
     "text": [
      "[[0.    0.1   0.2   0.3   0.4   0.5   0.6   0.7   0.8   0.9   1.   ]\n",
      " [0.925 0.9   0.9   0.875 0.875 0.875 0.825 0.825 0.825 0.825 0.825]\n",
      " [0.175 0.125 0.125 0.1   0.075 0.075 0.075 0.05  0.05  0.025 0.025]]\n"
     ]
    }
   ],
   "source": [
    "list_threshold = np.array([0,.1,.2,.3,.4,.5,.6,.7,.8,.9,1])\n",
    "\n",
    "#we define arrays filled with zeros where we will store our results\n",
    "tpr = np.zeros(len(list_threshold))\n",
    "fpr = np.zeros(len(list_threshold))\n",
    "\n",
    "for k in range(len(list_threshold)):\n",
    "\n",
    "    #compute threshold value\n",
    "    #compute TPR and store value\n",
    "    threshold = list_threshold[k]\n",
    "    \n",
    "    tp,fp,tg,fg=cat(threshold)\n",
    "    \n",
    "\n",
    "    tpr[k]=len(tp)/40\n",
    "    #compute FPR\n",
    "    fpr[k]=len(fp)/40\n",
    "\n",
    "\n",
    "print(np.array([list_threshold,tpr,fpr]))\n"
   ]
  },
  {
   "cell_type": "code",
   "execution_count": 59,
   "metadata": {},
   "outputs": [
    {
     "data": {
      "text/plain": [
       "(-0.05, 1.05)"
      ]
     },
     "execution_count": 59,
     "metadata": {},
     "output_type": "execute_result"
    },
    {
     "data": {
      "image/png": "[encoded data removed]",
      "text/plain": [
       "<Figure size 432x288 with 1 Axes>"
      ]
     },
     "metadata": {
      "needs_background": "light"
     },
     "output_type": "display_data"
    }
   ],
   "source": [
    "\n",
    "plt.title('ROC curve for the pink category')\n",
    "plt.scatter(fpr,tpr)\n",
    "plt.ylabel('true positive rate')\n",
    "plt.xlabel('false positive rate')\n",
    "plt.xlim((-0.05,1.05))\n",
    "plt.ylim((-0.05,1.05))"
   ]
  },
  {
   "cell_type": "markdown",
   "metadata": {},
   "source": [
    "Let make the graph a bit nicer by labelling each dot:"
   ]
  },
  {
   "cell_type": "code",
   "execution_count": 60,
   "metadata": {},
   "outputs": [
    {
     "name": "stdout",
     "output_type": "stream",
     "text": [
      "11\n",
      "11\n"
     ]
    }
   ],
   "source": [
    "colours  = ListedColormap(['r','b','yellow','cyan','pink','purple','black','grey','green','magenta','orange'])\n",
    "classes = [str(list_threshold[k]) for k in range(len(list_threshold))]\n",
    "values = list_threshold\n",
    "print(len(values))\n",
    "print(len(tpr))"
   ]
  },
  {
   "cell_type": "code",
   "execution_count": 61,
   "metadata": {},
   "outputs": [
    {
     "data": {
      "text/plain": [
       "[]"
      ]
     },
     "execution_count": 61,
     "metadata": {},
     "output_type": "execute_result"
    },
    {
     "data": {
      "image/png": "[encoded data removed]",
      "text/plain": [
       "<Figure size 720x432 with 1 Axes>"
      ]
     },
     "metadata": {
      "needs_background": "light"
     },
     "output_type": "display_data"
    }
   ],
   "source": [
    "plt.figure(figsize=(10,6))\n",
    "plt.title('ROC curve for the pink category')\n",
    "scatter = plt.scatter(fpr,tpr,c=values,cmap=colours)\n",
    "plt.legend(handles=scatter.legend_elements()[0], labels=classes,title='threshold')\n",
    "plt.ylabel('true positive rate')\n",
    "plt.xlabel('false positive rate')\n",
    "plt.xlim((-0.05,1.05))\n",
    "plt.ylim((-0.05,1.05))\n",
    "plt.plot()"
   ]
  },
  {
   "cell_type": "markdown",
   "metadata": {},
   "source": [
    "Comment this ROC curve: "
   ]
  },
  {
   "cell_type": "markdown",
   "metadata": {},
   "source": [
    "The lowest threshold is related to the highest false positive rate and highest true positive rate. When we take the value of the threshold more up, the false positive rate gets lower. This is a good thing. On the other hand, the true positive rate decreases also a little and this is something we do not like to see. The ideal case would be if the true positive rate was close to 1 and the false positive rate close to 0. But all the values are in the left upper corner so it is close to the ideal case. If we would increase the threshold value more and more, my prediction is that the true positive rate and the false positive rate would further decrease."
   ]
  },
  {
   "cell_type": "markdown",
   "metadata": {},
   "source": [
    "# Exercise: The simplest neural network ever"
   ]
  },
  {
   "cell_type": "code",
   "execution_count": 62,
   "metadata": {},
   "outputs": [
    {
     "name": "stdout",
     "output_type": "stream",
     "text": [
      "shape inputs X (4, 3)\n",
      "shape outputs Y (4, 1)\n",
      "weights shape (3, 1)\n"
     ]
    }
   ],
   "source": [
    "# sigmoid function - this is our squeezing funct (when deriv=False) and its derivative (when deriv = True)\n",
    "\n",
    "def nonlin(x, deriv=False):\n",
    "    if (deriv == True):\n",
    "        return x * (1 - x)\n",
    "    return 1 / (1 + np.exp(-x))\n",
    "\n",
    "\n",
    "# input dataset\n",
    "X = np.array([[0, 0, 1],\n",
    "              [0, 1, 1],\n",
    "              [1, 0, 1],\n",
    "              [1, 1, 1]])\n",
    "print('shape inputs X',X.shape)\n",
    "# output dataset\n",
    "y = np.array([[0, 0, 1, 1]]).T\n",
    "print('shape outputs Y',y.shape)\n",
    "# seed random numbers to make calculation\n",
    "# deterministic (just a good practice)\n",
    "np.random.seed(1)\n",
    "\n",
    "# initialize weights randomly with mean 0\n",
    "weights = 2 * np.random.random((3, 1)) - 1\n",
    "\n",
    "\n",
    "print('weights shape',weights.shape)\n"
   ]
  },
  {
   "cell_type": "markdown",
   "metadata": {},
   "source": [
    "Make a loop over 10 000 iteration to update the weights for a ONE LAYER neural network with 1 ouput in the loop you should start by evaluating the output with the current weights then you compute the error made\n",
    "to update your weights, you can use the 'gradient method' finally you need to update your weights. \n"
   ]
  },
  {
   "cell_type": "markdown",
   "metadata": {},
   "source": [
    "\n",
    "<img src=\"./figures/nn_simple_1.jpg\" width=\"800\" height=\"400\">\n"
   ]
  },
  {
   "cell_type": "code",
   "execution_count": 63,
   "metadata": {},
   "outputs": [],
   "source": [
    "def sig(x):\n",
    "    return 1/(1+np.exp(-x))"
   ]
  },
  {
   "cell_type": "code",
   "execution_count": 64,
   "metadata": {},
   "outputs": [],
   "source": [
    "def dsig(x):\n",
    "    return np.exp(x)/((np.exp(x)+1)**2)"
   ]
  },
  {
   "cell_type": "code",
   "execution_count": 65,
   "metadata": {},
   "outputs": [
    {
     "name": "stdout",
     "output_type": "stream",
     "text": [
      "[[0 0 1]\n",
      " [0 1 1]\n",
      " [1 0 1]\n",
      " [1 1 1]]\n",
      "(4, 1)\n",
      "(3, 1)\n"
     ]
    }
   ],
   "source": [
    "weights = 2 * np.random.random((3, 1)) - 1\n",
    "a0 = X\n",
    "a1 = y\n",
    "print(a0)\n",
    "print(a1.shape)\n",
    "print(weights.shape)"
   ]
  },
  {
   "cell_type": "code",
   "execution_count": 66,
   "metadata": {},
   "outputs": [
    {
     "name": "stdout",
     "output_type": "stream",
     "text": [
      "a0 shape (4, 3)\n",
      "(4, 1)\n",
      "Output After Training:\n",
      "[[0.61495267]\n",
      " [0.53974112]\n",
      " [0.46025888]\n",
      " [0.38504733]]\n",
      "True output\n",
      "[[0]\n",
      " [0]\n",
      " [1]\n",
      " [1]]\n"
     ]
    }
   ],
   "source": [
    "weights = 2 * np.random.random((3, 1)) - 1\n",
    "a0 = X\n",
    "print('a0 shape',a0.shape)\n",
    "a1 = y\n",
    "eta=.5 #learning rate\n",
    "print(a1.shape)\n",
    "for iter in range(1000):\n",
    "    # forward propagation => this is the formula for a_O^(1) in the first image above. \n",
    "    a1_hat =np.zeros((4,1))\n",
    "    for i in range(4):\n",
    "        wa=weights[0,0]*a0[i,0]+weights[1,0]*a0[i,1]+weights[2,0]*a0[i,2]\n",
    "        a1_hat[i,0]=sig(wa)\n",
    "    # rem: this is computing the outputs of all inputs at once! (because a0 is )\n",
    "    # how much did we miss (a1_hat is our estimation of the result)?- again this is an array containing the errors for all samples\n",
    "    a1_error = 1/len(a1)*np.sum((a1_hat-a1)**2)\n",
    "    # compute the gradient of C (multiply how much we missed by the slope of the sigmoid at x* (see slide))\n",
    "    \n",
    "    #DIT MOET JE NOG EENS BEKIJKEN FIEN\n",
    "    s=np.sum((a1-a1_hat))\n",
    "    x_star=weights[0,0]*a0[0,0]+weights[1,0]*a0[0,1]+weights[2,0]*a0[0,2]\n",
    "    gc0=2*s*dsig(x_star)*a0[0,0]\n",
    "    gc1=2*s*dsig(x_star)*a0[0,1]\n",
    "    gc2=2*s*dsig(x_star)*a0[0,2]\n",
    "    gradcost = [ gc0,gc1,gc2]\n",
    "    #print('a1_delta shape',a1_delta.shape)\n",
    "    # update weights (the dot product is to sum over the whole training set)\n",
    "    weights[0,0]+=eta*gc0\n",
    "    weights[1,0]+=eta*gc1\n",
    "    weights[2,0]+=eta*gc2\n",
    "    \n",
    "print('Output After Training:')\n",
    "print(a1_hat)\n",
    "print('True output')\n",
    "print(a1)\n",
    "\n"
   ]
  },
  {
   "cell_type": "markdown",
   "metadata": {},
   "source": [
    "# Exercise: Resampling Methods"
   ]
  },
  {
   "cell_type": "markdown",
   "metadata": {},
   "source": [
    "Apply either a black box LDA or black box NN to the myX, myY dataset and estimate the test error. Justify your choice of resampling method and comment the result obtained. \n",
    "\n",
    "You can find examples in the notebook examples_supervised_learning.ipynb"
   ]
  },
  {
   "cell_type": "code",
   "execution_count": 67,
   "metadata": {},
   "outputs": [],
   "source": [
    "#myX = np.loadtxt(\"/Users/fiend/OneDrive/VUB/Master1/Computational Physics/MachineLearning/myX.txt\")\n",
    "#myY= np.genfromtxt(\"/Users/fiend/OneDrive/VUB/Master1/Computational Physics/MachineLearning/myY.txt\",delimiter='\\n',dtype=str)"
   ]
  },
  {
   "cell_type": "code",
   "execution_count": 68,
   "metadata": {},
   "outputs": [
    {
     "ename": "NameError",
     "evalue": "name 'myX' is not defined",
     "output_type": "error",
     "traceback": [
      "\u001b[1;31m---------------------------------------------------------------------------\u001b[0m",
      "\u001b[1;31mNameError\u001b[0m                                 Traceback (most recent call last)",
      "\u001b[1;32m~\\AppData\\Local\\Temp/ipykernel_39416/2790014195.py\u001b[0m in \u001b[0;36m<module>\u001b[1;34m\u001b[0m\n\u001b[0;32m      1\u001b[0m \u001b[0mclf\u001b[0m \u001b[1;33m=\u001b[0m \u001b[0mLDA\u001b[0m\u001b[1;33m(\u001b[0m\u001b[1;33m)\u001b[0m\u001b[1;33m\u001b[0m\u001b[1;33m\u001b[0m\u001b[0m\n\u001b[1;32m----> 2\u001b[1;33m \u001b[0mclf\u001b[0m\u001b[1;33m.\u001b[0m\u001b[0mfit\u001b[0m\u001b[1;33m(\u001b[0m\u001b[0mmyX\u001b[0m\u001b[1;33m,\u001b[0m\u001b[0mmyY\u001b[0m\u001b[1;33m)\u001b[0m\u001b[1;33m\u001b[0m\u001b[1;33m\u001b[0m\u001b[0m\n\u001b[0m",
      "\u001b[1;31mNameError\u001b[0m: name 'myX' is not defined"
     ]
    }
   ],
   "source": [
    "clf = LDA()\n",
    "clf.fit(myX,myY)"
   ]
  },
  {
   "cell_type": "code",
   "execution_count": null,
   "metadata": {},
   "outputs": [],
   "source": [
    "from sklearn.model_selection import RepeatedKFold, cross_val_score\n",
    "from sklearn.discriminant_analysis import LinearDiscriminantAnalysis as LDA\n",
    "\n",
    "\n",
    "# preparing cross validation splitting (into 5 folds, 15 times)\n",
    "#rkf = RepeatedKFold(n_splits=5, n_repeats=1)\n",
    "\n",
    "# getting error values for each fold and for each repetition as (1-the accuracy from clas.score).\n",
    "# (This is the classification problem and one needs to use the ratio between misclassified cells\n",
    "# and total number of cells instead of MSE.)\n",
    "fraction_of_correct_evaluations = cross_val_score(clf, myX, myY, cv=rkf)\n",
    "print('For the 5 differents splits, the faction of correclty predicted category is')\n",
    "print(fraction_of_correct_evaluations)\n",
    "print('For the 5 differents splits, the faction of NOT correclty predicted category is')\n",
    "print(1-fraction_of_correct_evaluations)\n",
    "print('Thus, the estimated tMSE is ',np.mean(1-fraction_of_correct_evaluations))\n"
   ]
  },
  {
   "cell_type": "code",
   "execution_count": null,
   "metadata": {},
   "outputs": [],
   "source": []
  }
 ],
 "metadata": {
  "anaconda-cloud": {},
  "kernelspec": {
   "display_name": "Python 3 (ipykernel)",
   "language": "python",
   "name": "python3"
  },
  "language_info": {
   "codemirror_mode": {
    "name": "ipython",
    "version": 3
   },
   "file_extension": ".py",
   "mimetype": "text/x-python",
   "name": "python",
   "nbconvert_exporter": "python",
   "pygments_lexer": "ipython3",
   "version": "3.9.7"
  },
  "latex_envs": {
   "LaTeX_envs_menu_present": true,
   "autoclose": false,
   "autocomplete": true,
   "bibliofile": "biblio.bib",
   "cite_by": "apalike",
   "current_citInitial": 1,
   "eqLabelWithNumbers": true,
   "eqNumInitial": 1,
   "hotkeys": {
    "equation": "Ctrl-E",
    "itemize": "Ctrl-I"
   },
   "labels_anchors": false,
   "latex_user_defs": false,
   "report_style_numbering": false,
   "user_envs_cfg": false
  },
  "toc": {
   "base_numbering": 1,
   "nav_menu": {},
   "number_sections": true,
   "sideBar": true,
   "skip_h1_title": false,
   "title_cell": "Table of Contents",
   "title_sidebar": "Contents",
   "toc_cell": false,
   "toc_position": {},
   "toc_section_display": true,
   "toc_window_display": false
  }
 },
 "nbformat": 4,
 "nbformat_minor": 2
}
