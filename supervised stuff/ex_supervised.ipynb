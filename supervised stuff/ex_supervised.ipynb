{
 "cells": [
  {
   "cell_type": "code",
   "execution_count": 86,
   "metadata": {},
   "outputs": [],
   "source": [
    "import numpy as np\n",
    "import matplotlib.pyplot as plt\n",
    "from sklearn.discriminant_analysis import LinearDiscriminantAnalysis as LDA\n",
    "import pandas as pd\n",
    "from scipy.stats import t\n",
    "from matplotlib.colors import ListedColormap\n",
    "from scipy import stats\n",
    "import matplotlib"
   ]
  },
  {
   "cell_type": "markdown",
   "metadata": {},
   "source": [
    "# Exercise: Linear Regression "
   ]
  },
  {
   "cell_type": "markdown",
   "metadata": {},
   "source": [
    "We start by building a dataset (X,Y) with 50 samples, using the linear function f and add noise using np.random.normal(0,sigma):"
   ]
  },
  {
   "cell_type": "code",
   "execution_count": 87,
   "metadata": {},
   "outputs": [],
   "source": [
    "def f(x,theta):\n",
    "    x_temp = np.array([1.0,x])\n",
    "    return np.dot(x_temp,theta)"
   ]
  },
  {
   "cell_type": "code",
   "execution_count": 88,
   "metadata": {},
   "outputs": [],
   "source": [
    "sigma = 25\n",
    "n =7\n",
    "x = np.linspace(0,100,n)\n",
    "\n",
    "#our linear model is defined by beta:\n",
    "beta = [3.0,1.5]\n",
    "\n",
    "#a more compact way of coding this: \n",
    "y = np.array([ f(x[kk],beta) + np.random.normal(0,sigma) for kk in range(len(x))])\n",
    "#test with random data:\n",
    "# y = np.array([ np.random.random() for kk in range(len(x))])  "
   ]
  },
  {
   "cell_type": "code",
   "execution_count": 89,
   "metadata": {},
   "outputs": [
    {
     "data": {
      "image/png": "[encoded data removed]",
      "text/plain": [
       "<Figure size 640x480 with 1 Axes>"
      ]
     },
     "metadata": {},
     "output_type": "display_data"
    }
   ],
   "source": [
    "# plot the generated points with noise \n",
    "\n",
    "plt.title('My dataset')\n",
    "plt.scatter(x,y)\n",
    "plt.xlabel('x')\n",
    "plt.ylabel('y')\n",
    "#plt.savefig('ligreg1.png')\n",
    "plt.show()"
   ]
  },
  {
   "cell_type": "markdown",
   "metadata": {},
   "source": [
    "<b> (a) Estimate the $\\beta_0$ and $\\beta_1$ from this dataset using MSE minimination (formula on slide 20):\n",
    "\n",
    "python hints: \n",
    "\n",
    "to build the matrix X for x, you might have to \"force\" it to be a np.array: to convert a list xx to a np.array, use xx = np.array(xx). \n",
    "\n",
    "to invert a matrix, use np.linalg.inv. \n",
    "\n",
    "for matricial product, use np.dot(,)"
   ]
  },
  {
   "cell_type": "code",
   "execution_count": 90,
   "metadata": {},
   "outputs": [
    {
     "name": "stdout",
     "output_type": "stream",
     "text": [
      "the estimation of the slope is  1.57 the estimation of the intercept is  -22.74\n",
      "And correct beta1 and beta0 are:  1.5 3.0\n"
     ]
    }
   ],
   "source": [
    "# beta = (xT x)**-1 xT y\n",
    "X = np.zeros((len(x),2))\n",
    "\n",
    "# fill matrix \n",
    "for i in range(len(x)):\n",
    "    X[i,0] = 1\n",
    "    X[i,1] = x[i]\n",
    "\n",
    "\n",
    "XT = np.transpose(X)\n",
    "Y = np.array(y)\n",
    "\n",
    "hatbeta = np.dot(np.dot(np.linalg.inv(np.dot(XT, X))  ,  XT) , Y)\n",
    "# hatbeta_ = np.dot((np.linalg.inv(np.dot(XT, X))), np.dot(XT,Y))\n",
    "print('the estimation of the slope is ',round(hatbeta[1],2), 'the estimation of the intercept is ', round(hatbeta[0],2))\n",
    "print('And correct beta1 and beta0 are: ' , beta[1], beta[0])\n",
    "\n",
    "# this step should be correct! "
   ]
  },
  {
   "cell_type": "markdown",
   "metadata": {},
   "source": [
    "<b> (b) Estimate sigma from the dataset:"
   ]
  },
  {
   "cell_type": "code",
   "execution_count": 91,
   "metadata": {},
   "outputs": [],
   "source": [
    "y_hat = beta[0] + beta[1]*x\n"
   ]
  },
  {
   "cell_type": "code",
   "execution_count": 92,
   "metadata": {},
   "outputs": [
    {
     "name": "stdout",
     "output_type": "stream",
     "text": [
      "The estimated value of sigma is  39.87 , the true value is  25\n"
     ]
    }
   ],
   "source": [
    "# we need to estimate sigma, because we want to know how our estimated parameter is distributed.\n",
    "\n",
    "mse_times_n = 0\n",
    "for i in range(len(x)):\n",
    "    mse_times_n += (y[i]-y_hat[i])**2\n",
    "\n",
    "sigma_hat = np.sqrt(mse_times_n/(n-2))\n",
    "\n",
    "\n",
    "print('The estimated value of sigma is ', round(sigma_hat,2),', the true value is ', sigma)\n",
    "\n",
    "# I do not see an error here"
   ]
  },
  {
   "cell_type": "code",
   "execution_count": 93,
   "metadata": {},
   "outputs": [
    {
     "name": "stdout",
     "output_type": "stream",
     "text": [
      "The error made on estimating the beta1 is  0.28 (to be compared with the value of sigma: ) 25\n"
     ]
    }
   ],
   "source": [
    "# Calculate the error made on estimating the beta1\n",
    "\n",
    "sum = 0 \n",
    "x_avg = np.average(x)\n",
    "for i in range(len(x)):\n",
    "    sum += (x[i]-x_avg)**2\n",
    "\n",
    "sigmabeta1 = sigma**2 / sum\n",
    "\n",
    "sigmabeta1 = np.sqrt(sigmabeta1)\n",
    "print('The error made on estimating the beta1 is ',round(sigmabeta1,2), '(to be compared with the value of sigma: )', round(sigma, 2))\n",
    "\n",
    "# we see that the value of sigma is much higher than that of the sigma estimating beta1. "
   ]
  },
  {
   "cell_type": "markdown",
   "metadata": {},
   "source": [
    "<b> (c) Compute the p value associate with this linear regression and explain what it represents. \n",
    "=> you need first to compute $z$, and then compute what is the probability of having observed a $z$ with that value of higher (in absolute valeu). \n",
    "\n",
    "Then compute $z_1$ as on slide 28 to get the boundary value of $z$ for acceptance or rejection of the null hypothesis. </b>\n",
    "\n",
    "\n",
    "hint: you need to estimate the value of sigma from the dataset for this, and rely on formula for $z$ on slide 28\n",
    "\n",
    "hint 2: use the following functions\n",
    "\n",
    "t.pdf(...,df) = Probability Density Function (PDF): Returns the probability for an observation having a specific value from the distribution (df = number of degrees of freedom of the t distribution).\n",
    "\n",
    "t.cdf(...,df) = Cumulative Density Function (CDF): Returns the probability for an observation equal to or lesser than a specific value from the distribution.\n",
    "\n",
    "t.ppf(..., df) = Percent Point Function (PPF): Returns the observation value for the provided probability that is less than or equal to the provided probability from the distribution."
   ]
  },
  {
   "cell_type": "code",
   "execution_count": null,
   "metadata": {},
   "outputs": [],
   "source": []
  },
  {
   "cell_type": "code",
   "execution_count": 94,
   "metadata": {},
   "outputs": [
    {
     "name": "stdout",
     "output_type": "stream",
     "text": [
      "5.530827626659825\n"
     ]
    }
   ],
   "source": [
    "myz = hatbeta[1] / sigmabeta1\n",
    "\n",
    "# this is a t-distribution with n-p degrees of freedom\n",
    "print(myz)\n"
   ]
  },
  {
   "cell_type": "code",
   "execution_count": 95,
   "metadata": {},
   "outputs": [
    {
     "name": "stdout",
     "output_type": "stream",
     "text": [
      "0.002377208997678849 0.9986753778059688 0.001052586803647671\n",
      "my p:  0.002377208997678849 correct p:  0.005568312956812103\n"
     ]
    }
   ],
   "source": [
    "# we need to calculate the probability of picking a value of abs(z) or higher out of this t-distribution with n-2 degrees of freedom! \n",
    "# this is the p-value.\n",
    "# probability of picking a z value of abs(z) or less\n",
    "p_less = t.cdf(myz, n-2)\n",
    "# p of picking z\n",
    "p_z = t.pdf(myz, n-2)\n",
    "# prob of picking z or larger:\n",
    "p = 1-p_less+p_z\n",
    "print(p, p_less, p_z)\n",
    "\n",
    "\n",
    "# compare to blackbox value\n",
    "\n",
    "slope, intercept, r_value, p_value, std_err = stats.linregress(x,y)\n",
    "print('my p: ', p, 'correct p: ', p_value)\n",
    "\n",
    "\n",
    "# -> reject H0\n",
    "\n",
    "# \n",
    "#\n",
    "#   Dein P-Value ist komplett falsch, guck nachher nach\n",
    "#\n",
    "#\n"
   ]
  },
  {
   "cell_type": "code",
   "execution_count": null,
   "metadata": {},
   "outputs": [],
   "source": []
  },
  {
   "cell_type": "markdown",
   "metadata": {},
   "source": [
    "If it is less than 5 percent, I reject my null hypothesis and I claim that there is a linear relationship between $x$ and $y$. \n",
    "The quality of the fit is given by (see slide 29):"
   ]
  },
  {
   "cell_type": "code",
   "execution_count": 96,
   "metadata": {},
   "outputs": [],
   "source": [
    "\n",
    "TSS = 0 \n",
    "y_avg = np.average(y)\n",
    "for i in range(len(x)):\n",
    "    TSS += (y[i]-y_avg)**2\n",
    "\n",
    "RSS = 0\n",
    "for i in range(len(x)):\n",
    "    RSS += (y[i]- hatbeta[0]-hatbeta[1]*x[i])**2\n",
    "\n",
    "#proportion of the variance explained\n",
    "r_sq = 1-RSS/TSS"
   ]
  },
  {
   "cell_type": "code",
   "execution_count": 97,
   "metadata": {},
   "outputs": [
    {
     "name": "stdout",
     "output_type": "stream",
     "text": [
      "-2.57058183661474 2.5705818366147395\n"
     ]
    }
   ],
   "source": [
    "p_max = 0.975\n",
    "# retrieve value <= probability\n",
    "max_z = t.ppf(p_max,len(x)-2)\n",
    "p_min = 0.025\n",
    "# retrieve value <= probability\n",
    "min_z = t.ppf(p_min,len(x)-2)\n",
    "print(min_z,max_z)"
   ]
  },
  {
   "cell_type": "code",
   "execution_count": 98,
   "metadata": {
    "scrolled": true
   },
   "outputs": [
    {
     "data": {
      "image/png": "[encoded data removed]",
      "text/plain": [
       "<Figure size 640x480 with 1 Axes>"
      ]
     },
     "metadata": {},
     "output_type": "display_data"
    }
   ],
   "source": [
    "\n",
    "fig, ax = plt.subplots(1, 1)\n",
    "df = n-2# number of degree of freedom (the -2 is because we estimated two parameters)\n",
    "\n",
    "x_fig = np.linspace(t.ppf(0.005, df),t.ppf(0.995, df), 100)\n",
    "\n",
    "ax.plot(x_fig, t.pdf(x_fig, df),'r-', lw=2, alpha=0.6, label='t-distribution')\n",
    "ax.plot(x_fig, stats.norm.pdf(x_fig),'g--', lw=2, alpha=0.6, label='norm')\n",
    "\n",
    "\n",
    "ax.vlines(myz,ymin=0,ymax=.5 , label = 'z-value', color = 'blue')\n",
    "ax.vlines(max_z,colors='r',ymin=0,ymax=.5)\n",
    "ax.vlines(min_z,colors='r',ymin=0,ymax=.5)\n",
    "\n",
    "ax.legend(loc='upper left', frameon=False)\n",
    "ax.set_xlabel('z')\n",
    "ax.set_ylabel('p(z)')\n",
    "plt.savefig('linreg2.png')\n",
    "plt.show()"
   ]
  },
  {
   "cell_type": "markdown",
   "metadata": {},
   "source": [
    "If the blue line is far from the peak of the distribution (futher than the red lines), it is very unlikely to observe that \"z-value\" under the null hypothesis => we reject it and accept the fact that there is a linear relation between x and y. "
   ]
  },
  {
   "cell_type": "code",
   "execution_count": 99,
   "metadata": {},
   "outputs": [
    {
     "name": "stdout",
     "output_type": "stream",
     "text": [
      "0.005568312956812103\n"
     ]
    }
   ],
   "source": [
    "# we see that the blue line is further from the peak of the distribution than the red lines. \n",
    "# so we reject H0.\n",
    "\n",
    "# FYI - with a black box: \n",
    "slope, intercept, r_value, p_value, std_err = stats.linregress(x,y)\n",
    "print(p_value)"
   ]
  },
  {
   "cell_type": "markdown",
   "metadata": {},
   "source": [
    "(d) it is just a check: the $z_{min}$ and $z_{max}$ values (cf slide 28) by integrating the probability distribution => it should give 0.95: "
   ]
  },
  {
   "cell_type": "code",
   "execution_count": 100,
   "metadata": {
    "scrolled": true
   },
   "outputs": [
    {
     "data": {
      "text/plain": [
       "(0.9500000000593665, 1.8245854046389232e-13)"
      ]
     },
     "execution_count": 100,
     "metadata": {},
     "output_type": "execute_result"
    }
   ],
   "source": [
    "import scipy.integrate as integrate\n",
    "\n",
    "from scipy.integrate import quad\n",
    "\n",
    "def integrand(x, df):\n",
    "\n",
    "    return t.pdf(x, df)\n",
    "\n",
    "I = quad(integrand, min_z, max_z, args=(df))\n",
    "\n",
    "I"
   ]
  },
  {
   "cell_type": "markdown",
   "metadata": {},
   "source": [
    "(e) Repeat (a) 100 times for different dataset (to be build similarly as above) and represent the obtained $\\hat \\beta_1$ with an histogram "
   ]
  },
  {
   "cell_type": "code",
   "execution_count": 101,
   "metadata": {},
   "outputs": [
    {
     "data": {
      "image/png": "[encoded data removed]",
      "text/plain": [
       "<Figure size 640x480 with 1 Axes>"
      ]
     },
     "metadata": {},
     "output_type": "display_data"
    }
   ],
   "source": [
    "number_of_iterations = 100\n",
    "beta1_evaluations = np.zeros(number_of_iterations)\n",
    "beta1_evaluations_over_sigma = np.zeros(number_of_iterations)\n",
    "sigma_evaluations = np.zeros(number_of_iterations)\n",
    "\n",
    "for kk in range(number_of_iterations):\n",
    "    y = np.array([ f(x[kk],beta) + np.random.normal(0,sigma) for kk in range(len(x))])\n",
    "    # X already defined\n",
    "    Y = np.array(y)\n",
    "    betas=np.dot(np.dot(np.linalg.inv(np.dot(XT, X))  ,  XT) , Y)\n",
    "    beta1_evaluations[kk] = betas[1]\n",
    "    y_hat = beta[0] + beta[1]*x\n",
    "    mse = 0\n",
    "    for i in range(len(x)):\n",
    "        mse += (y[i]-y_hat[i])**2\n",
    "\n",
    "    sigma_hat = np.sqrt(mse/(n-2))\n",
    "\n",
    "    sigma_evaluations[kk] = sigma_hat\n",
    "\n",
    "    \n",
    "    sum = 0 \n",
    "    x_avg = np.average(x)\n",
    "    for i in range(len(x)):\n",
    "        sum += (x[i]-x_avg)**2\n",
    "\n",
    "    sigmabeta1 = np.sqrt(sigma**2 / sum)\n",
    "\n",
    "    beta1_evaluations_over_sigma[kk] = betas[1]/sigmabeta1\n",
    "\n",
    "    slope, intercept, r_value, p_value, std_err = stats.linregress(x,y)\n",
    "\n",
    "plt.hist(beta1_evaluations)\n",
    "plt.title('Distributions of estimations of beta1')\n",
    "plt.show()"
   ]
  },
  {
   "cell_type": "code",
   "execution_count": 102,
   "metadata": {},
   "outputs": [],
   "source": [
    "if False:\n",
    "    #to get info about a function, place a ? in front and run in a cell\n",
    "    ?stats.chi2.fit"
   ]
  },
  {
   "cell_type": "markdown",
   "metadata": {},
   "source": [
    "Check that the number of dof of the chi2 distribution is given by n-2 (here 2 because we estimated two parameters):"
   ]
  },
  {
   "cell_type": "code",
   "execution_count": 103,
   "metadata": {},
   "outputs": [
    {
     "name": "stdout",
     "output_type": "stream",
     "text": [
      "(100,)\n"
     ]
    },
    {
     "data": {
      "text/plain": [
       "(240.02689517616489, -43.687603055614474, 0.29739590091882895)"
      ]
     },
     "execution_count": 103,
     "metadata": {},
     "output_type": "execute_result"
    }
   ],
   "source": [
    "print(np.shape(beta1_evaluations))\n",
    "\n",
    "df_estimate,loc_estimate, scale_estimate  = stats.chi2.fit(sigma_evaluations)\n",
    "df_estimate,loc_estimate, scale_estimate"
   ]
  },
  {
   "cell_type": "code",
   "execution_count": 104,
   "metadata": {},
   "outputs": [
    {
     "data": {
      "image/png": "[encoded data removed]",
      "text/plain": [
       "<Figure size 640x480 with 1 Axes>"
      ]
     },
     "metadata": {},
     "output_type": "display_data"
    }
   ],
   "source": [
    "#this should be a chi-2 distribution with n-p dof (so here n=5 and p=2 => 3dof)\n",
    "plt.figure(tight_layout = True)\n",
    "\n",
    "fkfq , bins_S, abc = plt.hist(sigma_evaluations, density=1, alpha=0.5)\n",
    "\n",
    "plt.title('Distribution of estimations of $\\hat{\\sigma}$')\n",
    "best_fit_line_chi2 = stats.chi2.pdf(bins_S,df_estimate, loc_estimate, scale_estimate)\n",
    "plt.plot(bins_S,best_fit_line_chi2,label='chi2-distr')\n",
    "plt.xlabel('$\\hat{\\sigma}$')\n",
    "plt.ylabel('freq.')\n",
    "plt.legend()\n",
    "plt.savefig('linreg3.png')\n",
    "plt.show()"
   ]
  },
  {
   "cell_type": "markdown",
   "metadata": {},
   "source": [
    "(e) What is the probability distriubtion of the estimated values $\\hat \\beta_1 / \\sigma_{\\beta_1}$. Comment your answer. Hint: use stats.norm.fit"
   ]
  },
  {
   "cell_type": "code",
   "execution_count": 105,
   "metadata": {
    "scrolled": true
   },
   "outputs": [
    {
     "name": "stdout",
     "output_type": "stream",
     "text": [
      "5.275834637404596 0.838941848720779\n"
     ]
    }
   ],
   "source": [
    "mu_normal_fit, sigma_normal_fit = stats.norm.fit(beta1_evaluations_over_sigma)\n",
    "print(mu_normal_fit, sigma_normal_fit)\n",
    "\n"
   ]
  },
  {
   "cell_type": "code",
   "execution_count": 106,
   "metadata": {},
   "outputs": [],
   "source": [
    "z_evaluations = beta1_evaluations_over_sigma"
   ]
  },
  {
   "cell_type": "code",
   "execution_count": 107,
   "metadata": {
    "scrolled": true
   },
   "outputs": [
    {
     "data": {
      "image/png": "[encoded data removed]",
      "text/plain": [
       "<Figure size 640x480 with 1 Axes>"
      ]
     },
     "metadata": {},
     "output_type": "display_data"
    }
   ],
   "source": [
    "# This plot seemed to work, but I don't understand why\n",
    "\n",
    "\n",
    "plt.figure(tight_layout = True)\n",
    "\n",
    "_, bins, _ = plt.hist(z_evaluations, density=1, alpha=0.5)\n",
    "\n",
    "best_fit_line = stats.norm.pdf(bins, mu_normal_fit, sigma_normal_fit)\n",
    "\n",
    "df_est, loc_est, scale_est = t.fit(z_evaluations) #fiting to a t-student distribution \n",
    "best_fit_line_t = stats.t.pdf(bins,df_est, loc_est, scale_est)\n",
    "\n",
    "plt.plot(bins, best_fit_line,label='normal')\n",
    "plt.plot(bins,best_fit_line_t,label='t-distr')\n",
    "\n",
    "plt.title('z-values')\n",
    "plt.xlabel('estimation of z')\n",
    "plt.ylabel('freq.')\n",
    "plt.legend()\n",
    "plt.show()"
   ]
  },
  {
   "cell_type": "markdown",
   "metadata": {},
   "source": [
    "# Exercise: Linear discriminant analysis: pink vs green"
   ]
  },
  {
   "cell_type": "markdown",
   "metadata": {},
   "source": [
    "We start with a labelled data set whose inputs are : "
   ]
  },
  {
   "cell_type": "code",
   "execution_count": 108,
   "metadata": {
    "code_folding": []
   },
   "outputs": [],
   "source": [
    "X = np.array([1.75860969,  1.21822739, -1.26356318,  2.91537812,  3.10517506,\n",
    "        3.08995169,  1.73663264,  1.417986  ,  2.97874194,  1.02612401,\n",
    "        1.44476555,  0.57531973,  0.26809148,  4.09974131,  2.50400378,\n",
    "        2.99089042,  0.57560659,  1.82877472,  1.4679634 ,  2.43664457,\n",
    "        1.97868673, -0.80911347,  1.55322051,  1.24100934,  2.39248028,\n",
    "        3.83483408,  3.1876462 ,  3.55671585,  1.38558747,  3.30074664,\n",
    "        2.75590294,  2.32096285,  2.85548297,  2.32616711, -1.57455353,\n",
    "        2.4311101 ,  2.55119646,  2.90450118,  2.00737857,  0.01656822,-1.19331961,  0.68029264, -1.40977742, -1.57572063, -2.65345905,\n",
    "       -2.16083126,  0.8167179 ,  0.05211783, -3.24852015, -2.09097824,\n",
    "       -1.77366778, -1.38219704, -3.38111373, -5.17816507, -0.97002885,\n",
    "       -2.03895265, -0.99034122,  0.39721913, -0.08746797, -2.97716289,\n",
    "       -4.69607405, -3.19356515, -0.90374167, -2.6196549 ,  0.2500216 ,\n",
    "       -3.35646837, -1.59124805,  0.04690309, -4.48707835, -2.65187787,\n",
    "       -1.30699669, -3.7194796 , -2.50237985, -1.19258543, -1.77802654,\n",
    "       -2.4663718 , -0.64556797, -1.3099631 , -3.26836737,  1.89202167])"
   ]
  },
  {
   "cell_type": "code",
   "execution_count": 109,
   "metadata": {},
   "outputs": [
    {
     "data": {
      "text/plain": [
       "(80,)"
      ]
     },
     "execution_count": 109,
     "metadata": {},
     "output_type": "execute_result"
    }
   ],
   "source": [
    "X.shape"
   ]
  },
  {
   "cell_type": "markdown",
   "metadata": {},
   "source": [
    "and outputs (here all pink outputs are listed first) :"
   ]
  },
  {
   "cell_type": "code",
   "execution_count": 110,
   "metadata": {},
   "outputs": [],
   "source": [
    "Y = np.array(['pink','pink','pink','pink','pink','pink','pink','pink','pink','pink','pink','pink','pink','pink','pink','pink','pink','pink','pink','pink','pink','pink','pink','pink','pink','pink','pink','pink','pink','pink','pink','pink','pink','pink','pink','pink','pink','pink','pink','pink','green','green','green','green','green','green','green','green','green','green','green','green','green','green','green','green','green','green','green','green','green','green','green','green','green','green','green','green','green','green','green','green','green','green','green','green','green','green','green','green'])"
   ]
  },
  {
   "cell_type": "code",
   "execution_count": 111,
   "metadata": {},
   "outputs": [
    {
     "data": {
      "text/plain": [
       "(80,)"
      ]
     },
     "execution_count": 111,
     "metadata": {},
     "output_type": "execute_result"
    }
   ],
   "source": [
    "Y.shape"
   ]
  },
  {
   "cell_type": "markdown",
   "metadata": {},
   "source": [
    "Define an array containing only the 'pink' inputs and one containing only the 'green'inputs:"
   ]
  },
  {
   "cell_type": "code",
   "execution_count": 112,
   "metadata": {},
   "outputs": [],
   "source": [
    "pink_indices = np.where(Y=='pink')[0]\n",
    "# contains only pink inputs\n",
    "pink = X[pink_indices]\n",
    "green_indices = np.where(Y=='green')[0]\n",
    "# contains only green inputs\n",
    "green = X[green_indices]"
   ]
  },
  {
   "cell_type": "markdown",
   "metadata": {},
   "source": [
    "## Coding a LDA "
   ]
  },
  {
   "cell_type": "markdown",
   "metadata": {},
   "source": [
    "Our goal will be to perform a linear discriminant analysis. In the case of two categories (as here with the pink and green categories), this amounts to find the boundary of decision $x^\\star$. If the input $x$ is larger than $x^\\star$ it belongs to the category for which the mean value of $x$ is larger, and if $x$ is smaller than $x^\\star$ it belongs to the other category. \n",
    "\n",
    "REM: we can also decide to focuss on only one category, let say the pink category, and decide to assign a sample to this category if if the probability of belonging to this category is higher than 60% for instance (instead of the more \"natural\" choice of 50 %) => this amounts to change the threshold. \n",
    "\n",
    "Here we want to evaluate \n",
    "\n",
    "$p_{\\text{green}} (x)$ and \n",
    "\n",
    "$p_{\\text{pink}} (x)$.\n",
    "\n",
    "\n",
    "We can use the formula: \n",
    "\n",
    "$p_k(x) = \\frac{ \\frac{\\pi_k}{\\sqrt{2 \\pi }\\sigma} \\exp{(- \\frac{1}{2 \\sigma^2}(x - \\mu_k)^2 )} }{N} $   (with $k =$ pink, green)\n",
    "\n",
    "if we have estimations for $\\pi_k$, $\\mu_k$ and $\\sigma$. $N$ is a normalisation factor. \n"
   ]
  },
  {
   "cell_type": "markdown",
   "metadata": {},
   "source": [
    "\n",
    "<b> Estimate of the means for both categories: "
   ]
  },
  {
   "cell_type": "code",
   "execution_count": 113,
   "metadata": {},
   "outputs": [
    {
     "name": "stdout",
     "output_type": "stream",
     "text": [
      "Mean value of pink samples is  1.91 and of green samples  -1.77\n"
     ]
    }
   ],
   "source": [
    "mu_p_hat= np.mean(pink)\n",
    "mu_g_hat= np.mean(green)\n",
    "print('Mean value of pink samples is ',round(mu_p_hat,2),'and of green samples ', round(mu_g_hat,2))\n"
   ]
  },
  {
   "cell_type": "markdown",
   "metadata": {},
   "source": [
    "Clearly, samples with a value close to 2 will be more likely to be pink and samples with a value close to -1.5 will be more likely to be green. "
   ]
  },
  {
   "cell_type": "markdown",
   "metadata": {},
   "source": [
    "<b> Estimate sigma for the whole data set (see slides):\n",
    "\n",
    "$\\hat \\sigma^2  = \\frac{1}{n-K} \\sum_k \\sum_i (x_i - \\hat \\mu_k)^2$ \n",
    "\n",
    "where $K$ is the number of categories (here 2), the first sum is over catergories and the second over the samples within the given category: \n",
    "\n",
    "$\\hat \\sigma^2  = \\frac{1}{n-2} ( \\sum_{i \\text{ for pink samples}} (x_i - \\hat \\mu_p)^2 \\, + \\, \\sum_{i \\text{ for green samples}} (x_i - \\hat \\mu_g)^2)$ \n"
   ]
  },
  {
   "cell_type": "code",
   "execution_count": 114,
   "metadata": {},
   "outputs": [],
   "source": [
    "\n",
    "pink_sum = 0\n",
    "for i in range(len(pink)):\n",
    "    pink_sum += (pink[i]-mu_p_hat)**2\n",
    "\n",
    "green_sum = 0 \n",
    "for i in range(len(green)):\n",
    "    green_sum += (green[i]-mu_g_hat)**2\n",
    "\n",
    "\n",
    "sigma_hat_2 = 1/(len(X)-2) * (pink_sum + green_sum)\n",
    "sigma_hat_whole = np.sqrt(sigma_hat_2)"
   ]
  },
  {
   "cell_type": "markdown",
   "metadata": {},
   "source": [
    "<b> Estimate $\\pi_{\\text{green}}$ and $\\pi_{\\text{pink}}$ (this is easy, it is simply the fractions of green and pink samples): "
   ]
  },
  {
   "cell_type": "code",
   "execution_count": 115,
   "metadata": {},
   "outputs": [],
   "source": [
    "pi_green = len(green)/len(X)\n",
    "pi_pink = len(pink)/len(X)"
   ]
  },
  {
   "cell_type": "code",
   "execution_count": 116,
   "metadata": {},
   "outputs": [
    {
     "name": "stdout",
     "output_type": "stream",
     "text": [
      "0.5 0.5\n"
     ]
    }
   ],
   "source": [
    "print(pi_pink,pi_green)"
   ]
  },
  {
   "cell_type": "markdown",
   "metadata": {},
   "source": [
    "<b> Find the boundary value $x^\\star$ for decision. You need to solve (by hand) the equation $\\delta_{\\text{pink}}(x^\\star) = \\delta_{\\text{green}}(x^\\star)$ (see slide 19):  \n",
    "\n",
    "\n",
    "$\\delta_k (x) =  x \\, \\frac{\\mu_k}{\\sigma^2} - \\frac{\\mu_k^2}{2 \\, \\sigma^2} + \\log{(\\pi_k)} $\n",
    "\n",
    "\n",
    "In the present case, we want to have $\\pi_{\\text{green}} = \\pi_{\\text{pink}}$ and the equation $\\delta_{\\text{pink}}(x^\\star) = \\delta_{\\text{green}}(x^\\star)$ reads\n",
    "\n",
    "$ x^\\star \\, \\frac{\\mu_{\\text{pink}}}{\\sigma^2} - \\frac{\\mu_{\\text{pink}}^2}{2 \\, \\sigma^2} + \\log{(\\pi_{\\text{pink}})} = x^\\star \\, \\frac{\\mu_{\\text{green}}}{\\sigma^2} - \\frac{\\mu_{\\text{green}}^2}{2 \\, \\sigma^2} + \\log{(\\pi_{\\text{green}})} $\n",
    "\n",
    "and gets actually very simple, \n",
    " \n",
    " $ x^\\star \\, \\mu_{\\text{pink}} - \\frac{\\mu_{\\text{pink}}^2}{2 }  = x^\\star \\, \\mu_{\\text{green}} - \\frac{\\mu_{\\text{green}}^2}{2}  $.\n",
    " \n",
    " We deduce that\n",
    " \n",
    " $x^\\star = \\frac{\\mu_{\\text{pink}}^2 - \\mu_{\\text{green}}^2}{ 2 \\, (\\mu_{\\text{pink}}-\\mu_{\\text{green}})}$\n"
   ]
  },
  {
   "cell_type": "code",
   "execution_count": 117,
   "metadata": {},
   "outputs": [
    {
     "name": "stdout",
     "output_type": "stream",
     "text": [
      "0.07157173687500006\n"
     ]
    }
   ],
   "source": [
    "#writing delta_pink = delta_green gives us the boundary value for an new observation \n",
    "#to be classified as green or pink \n",
    "\n",
    "x_boundary = ( mu_p_hat**2 - mu_g_hat**2 ) / ( 2* (mu_p_hat - mu_g_hat) )\n",
    "print(x_boundary)"
   ]
  },
  {
   "cell_type": "markdown",
   "metadata": {},
   "source": [
    "<b> Plot the histogram (just need to have defined x_boundary and the plotting will work):"
   ]
  },
  {
   "cell_type": "code",
   "execution_count": 118,
   "metadata": {},
   "outputs": [
    {
     "data": {
      "image/png": "[encoded data removed]",
      "text/plain": [
       "<Figure size 1000x600 with 1 Axes>"
      ]
     },
     "metadata": {},
     "output_type": "display_data"
    }
   ],
   "source": [
    "rng = np.random.RandomState(10)  # deterministic random data\n",
    "bins=np.linspace(-20,20,100)\n",
    "bins=np.append(bins,np.max([np.max(pink),np.max(green)]))\n",
    "a = np.hstack((pink,green))\n",
    "plt.figure(figsize=(10,6))\n",
    "plt.ylim(top=np.max(bins))\n",
    "y1, x1,_ = plt.hist(pink, bins='auto',alpha=.4,color='pink',label='pink histogram')  # alpha level => transparent color (in case histog. overlap)\n",
    "y2, x2,_ = plt.hist(green,bins='auto',alpha=.4,color='green',label='green histogram')\n",
    "plt.ylim([0,1.1*np.max(np.array([y1,y2]))])\n",
    "plt.axvline(x_boundary,label='boundary value for the input')\n",
    "plt.title(\"Histogram\")\n",
    "plt.xlabel('x')\n",
    "plt.ylabel('frequency')\n",
    "plt.legend(loc='upper left')\n",
    "plt.show()"
   ]
  },
  {
   "cell_type": "markdown",
   "metadata": {},
   "source": [
    "If you have a new input $x$ for which we do not know the catergory, the LDA will assign this new input to the pink categroy if $x$ is bigger than $x^\\star$ and to the green one if $x$ is smaller than $x^\\star$ (for a threshold of 50%). "
   ]
  },
  {
   "cell_type": "markdown",
   "metadata": {},
   "source": [
    "<b> For information: the dataset has been generated with the following code</b>"
   ]
  },
  {
   "cell_type": "code",
   "execution_count": 119,
   "metadata": {},
   "outputs": [],
   "source": [
    "if False:  #I put this \"if False\" not to generate a new dataset\n",
    "    mu_p = 2\n",
    "    mu_g = -2\n",
    "    sigma = 1.5\n",
    "    number_points = 40\n",
    "    pink = np.random.normal(mu_p,sigma,number_points)\n",
    "    green = np.random.normal(mu_g,sigma,number_points)\n",
    "    n = 2*number_points"
   ]
  },
  {
   "cell_type": "markdown",
   "metadata": {},
   "source": [
    "The actual \"input\" data X is given by the pink and green arrays. Here we have drawn inputs for the two categries (pink and green) from gaussian distributions with the same variance but different means. This actually corresponds to the hypothesis we make in the LDA, i.e. we assume that inside each category, samples are gaussianly distributed. We could define it as: "
   ]
  },
  {
   "cell_type": "code",
   "execution_count": 120,
   "metadata": {},
   "outputs": [],
   "source": [
    "if False:\n",
    "    X=np.concatenate((green,pink),axis=0)"
   ]
  },
  {
   "cell_type": "markdown",
   "metadata": {},
   "source": [
    "The \"output\" vector y is then y = ('green', 'green', ... , 'pink','pink') with 40 x 'green' and 40 x 'pink'. We could also assign an integer to each category. Let's say that 'green' = 0 and 'pink' = 1 for instance. Then y = (0,0,...,1,1,...). \n"
   ]
  },
  {
   "cell_type": "markdown",
   "metadata": {},
   "source": [
    "## Assessing the training error \n",
    "\n",
    "Using the threshold value of x we computed, we can see to which category all samples would be assigned. "
   ]
  },
  {
   "cell_type": "code",
   "execution_count": 121,
   "metadata": {},
   "outputs": [
    {
     "data": {
      "text/plain": [
       "array([-1.19331961,  0.68029264, -1.40977742, -1.57572063, -2.65345905,\n",
       "       -2.16083126,  0.8167179 ,  0.05211783, -3.24852015, -2.09097824,\n",
       "       -1.77366778, -1.38219704, -3.38111373, -5.17816507, -0.97002885,\n",
       "       -2.03895265, -0.99034122,  0.39721913, -0.08746797, -2.97716289,\n",
       "       -4.69607405, -3.19356515, -0.90374167, -2.6196549 ,  0.2500216 ,\n",
       "       -3.35646837, -1.59124805,  0.04690309, -4.48707835, -2.65187787,\n",
       "       -1.30699669, -3.7194796 , -2.50237985, -1.19258543, -1.77802654,\n",
       "       -2.4663718 , -0.64556797, -1.3099631 , -3.26836737,  1.89202167])"
      ]
     },
     "execution_count": 121,
     "metadata": {},
     "output_type": "execute_result"
    }
   ],
   "source": [
    "# all 'green' elements in our labelled data set have the following \"x\" values: \n",
    "green"
   ]
  },
  {
   "cell_type": "markdown",
   "metadata": {},
   "source": [
    "Let us look which of those would been correctly assigned with our obtained threshold: (use green < x_boundary and np.sum), this is the true positive rate:"
   ]
  },
  {
   "cell_type": "code",
   "execution_count": 122,
   "metadata": {},
   "outputs": [
    {
     "name": "stdout",
     "output_type": "stream",
     "text": [
      "35\n",
      "35\n"
     ]
    }
   ],
   "source": [
    "# unelegant way \n",
    "count = 0 \n",
    "for i in range(len(green)):\n",
    "    if green[i] < x_boundary:\n",
    "        count += 1\n",
    "\n",
    "print(count)\n",
    "\n",
    "# elegant way\n",
    "print(np.sum(green<x_boundary))"
   ]
  },
  {
   "cell_type": "markdown",
   "metadata": {},
   "source": [
    "\n",
    "Similarly, we will have the following number of correclty classified pink samples:"
   ]
  },
  {
   "cell_type": "code",
   "execution_count": 123,
   "metadata": {},
   "outputs": [
    {
     "name": "stdout",
     "output_type": "stream",
     "text": [
      "36\n"
     ]
    }
   ],
   "source": [
    "print(np.sum(pink>x_boundary))"
   ]
  },
  {
   "cell_type": "markdown",
   "metadata": {},
   "source": [
    "Let us focus on the pink category. We can compute the \n",
    "\n",
    "- true positive rate : number of correclty classified pink samples. \n",
    "- false positive rate : number of samples classified as pink while they are green. \n",
    "\n"
   ]
  },
  {
   "cell_type": "code",
   "execution_count": 124,
   "metadata": {},
   "outputs": [
    {
     "name": "stdout",
     "output_type": "stream",
     "text": [
      "true positive rate is  36\n",
      "false positive rate is  5\n"
     ]
    }
   ],
   "source": [
    "true_positive_rate = np.sum(pink>x_boundary)\n",
    "print('true positive rate is ',true_positive_rate)\n",
    "\n",
    "false_positive_rate = np.sum(green>x_boundary)\n",
    "print('false positive rate is ',false_positive_rate)"
   ]
  },
  {
   "cell_type": "markdown",
   "metadata": {},
   "source": [
    "\n",
    "<b> Do a ROC figure.</b>\n",
    "\n",
    "Let us focus on the pink category. The typical choice is to assign an input $x$ to the pink category is if p_pink(x)>.5. \n",
    "\n",
    "However we could choose to be more or less 'cautious' and decide to assign $x$ to the pink category if p_pink(x) > .1,.2,.3,.4,.5,.6,..\n",
    "\n",
    "For this, we need to evaluate \n",
    "\n",
    "$$p_k(x) = \\frac{ \\frac{\\pi_k}{\\sqrt{2 \\pi} \\sigma} \\exp{(- \\frac{1}{2 \\sigma^2}(x - \\mu_k)^2 )} }{N} $$\n",
    "\n",
    "We can first compute the \"not normalize $p_k(x)$\": \n"
   ]
  },
  {
   "cell_type": "code",
   "execution_count": 125,
   "metadata": {},
   "outputs": [],
   "source": [
    "sigma_hat = np.sqrt(sigma_hat_2)"
   ]
  },
  {
   "cell_type": "code",
   "execution_count": 126,
   "metadata": {},
   "outputs": [
    {
     "name": "stdout",
     "output_type": "stream",
     "text": [
      "0.12255916715477677 0.016655538583603698\n"
     ]
    }
   ],
   "source": [
    "# in the formula, we will use our estimations for sigma, since we do not know the real sigma\n",
    "\n",
    "p_pink_notnorm = pi_pink / (np.sqrt(2*np.pi)*sigma_hat) * np.exp(-1/(2*sigma_hat**2)* ( X - mu_p_hat )**2 )\n",
    "p_green_notnorm = pi_green / (np.sqrt(2*np.pi)*sigma_hat) * np.exp(-1/(2*sigma_hat**2)* ( X - mu_g_hat )**2 )\n",
    "\n",
    "\n",
    "print(p_pink_notnorm[1], p_green_notnorm[1])"
   ]
  },
  {
   "cell_type": "markdown",
   "metadata": {},
   "source": [
    "Compute the normalisation factor $N$ for each input:"
   ]
  },
  {
   "cell_type": "code",
   "execution_count": 127,
   "metadata": {},
   "outputs": [],
   "source": [
    "# is that correct? \n",
    "\n",
    "N_hat = np.zeros(len(X))\n",
    "for i in range(len(X)):\n",
    "    N_hat[i] = p_pink_notnorm[i] + p_green_notnorm[i]\n"
   ]
  },
  {
   "cell_type": "markdown",
   "metadata": {},
   "source": [
    "Compute the p_pink and p_green"
   ]
  },
  {
   "cell_type": "code",
   "execution_count": 128,
   "metadata": {},
   "outputs": [],
   "source": [
    "# p_pink = [p_pink_notnorm[kk]/N_pink[kk] for kk in range(len(X))]\n",
    "# p_green = [p_green_notnorm[kk]/N_green[kk] for kk in range(len(X))]\n",
    "\n",
    "p_pink = [p_pink_notnorm[kk]/N_hat[kk] for kk in range(len(X))]\n",
    "p_green = [p_green_notnorm[kk]/N_hat[kk] for kk in range(len(X))]\n"
   ]
  },
  {
   "cell_type": "code",
   "execution_count": 129,
   "metadata": {},
   "outputs": [
    {
     "name": "stdout",
     "output_type": "stream",
     "text": [
      "41.18622217712519\n"
     ]
    }
   ],
   "source": [
    "#check normalisation\n",
    "[p_pink[k]+p_green[k] for k in range(len(X))]\n",
    "print(np.sum(p_pink))"
   ]
  },
  {
   "cell_type": "markdown",
   "metadata": {},
   "source": [
    "Define an array containing the probability of being pink for true pink samples, and one with the probability of pink for not pink samples : "
   ]
  },
  {
   "cell_type": "code",
   "execution_count": 130,
   "metadata": {},
   "outputs": [],
   "source": [
    "number_of_pink = len(pink)\n",
    "pink1 = []\n",
    "pink2 = []\n",
    "for i in range(len(X)):\n",
    "    if Y[i] == 'pink':\n",
    "        pink1.append(p_pink[i])\n",
    "    elif Y[i] == 'green':\n",
    "        pink2.append(p_pink[i])\n",
    "    else: \n",
    "        print('error')\n",
    "p_pink_for_true_pink = np.array(pink1)\n",
    "p_pink_for_not_pink = np.array(pink2)\n",
    "\n",
    "# print(len(pink1), len(pink2), np.shape(p_pink_for_true_pink), np.shape(p_pink_for_not_pink))\n",
    "# print(pink1, pink2)\n"
   ]
  },
  {
   "cell_type": "code",
   "execution_count": 131,
   "metadata": {},
   "outputs": [
    {
     "name": "stdout",
     "output_type": "stream",
     "text": [
      "[[0.    0.1   0.2   0.3   0.4   0.5   0.6   0.7   0.8   0.9   1.   ]\n",
      " [1.    0.95  0.925 0.925 0.925 0.9   0.875 0.875 0.825 0.75  0.   ]\n",
      " [1.    0.3   0.225 0.2   0.2   0.125 0.1   0.075 0.025 0.025 0.   ]]\n"
     ]
    }
   ],
   "source": [
    "list_threshold = np.array([0,.1,.2,.3,.4,.5,.6,.7,.8,.9,1])\n",
    "\n",
    "# tpr = true positive rate - pink -> pink\n",
    "# fpr = false postivive rate - green -> pink\n",
    "\n",
    "#we define arrays filled with zeros where we will store our results\n",
    "tpr = np.zeros(len(list_threshold))\n",
    "fpr = np.zeros(len(list_threshold))\n",
    "\n",
    "for k in range(len(list_threshold)):\n",
    "    #compute threshold value\n",
    "    #compute TPR and store value\n",
    "    threshold = list_threshold[k]\n",
    "    tpr[k]= np.sum(p_pink_for_true_pink>=threshold)/number_of_pink\n",
    "    #compute FPR\n",
    "    fpr[k]= np.sum(p_pink_for_not_pink>=threshold)/number_of_pink\n",
    "#\n",
    "\n",
    "print(np.array([list_threshold,tpr,fpr]))\n",
    "\n"
   ]
  },
  {
   "cell_type": "code",
   "execution_count": 132,
   "metadata": {},
   "outputs": [
    {
     "data": {
      "text/plain": [
       "Text(0.5, 0, 'false positive rate')"
      ]
     },
     "execution_count": 132,
     "metadata": {},
     "output_type": "execute_result"
    },
    {
     "data": {
      "image/png": "[encoded data removed]",
      "text/plain": [
       "<Figure size 640x480 with 1 Axes>"
      ]
     },
     "metadata": {},
     "output_type": "display_data"
    }
   ],
   "source": [
    "plt.title('ROC curve for the pink category')\n",
    "plt.scatter(fpr,tpr)\n",
    "plt.ylabel('true positive rate')\n",
    "plt.xlabel('false positive rate')\n",
    "# plt.xlim((-0.05,1.05))\n",
    "# plt.ylim((-0.05,1.05))"
   ]
  },
  {
   "cell_type": "markdown",
   "metadata": {},
   "source": [
    "Let make the graph a bit nicer by labelling each dot:"
   ]
  },
  {
   "cell_type": "code",
   "execution_count": 133,
   "metadata": {},
   "outputs": [
    {
     "name": "stdout",
     "output_type": "stream",
     "text": [
      "['0.0', '0.1', '0.2', '0.3', '0.4', '0.5', '0.6', '0.7', '0.8', '0.9', '1.0']\n"
     ]
    }
   ],
   "source": [
    "colours  = ListedColormap(['r','b','yellow','cyan','pink','purple','black','grey','green','magenta','orange'])\n",
    "classes = [str(list_threshold[k]) for k in range(len(list_threshold))]\n",
    "values = list_threshold\n",
    "\n",
    "print(classes)"
   ]
  },
  {
   "cell_type": "code",
   "execution_count": null,
   "metadata": {},
   "outputs": [],
   "source": []
  },
  {
   "cell_type": "code",
   "execution_count": 134,
   "metadata": {},
   "outputs": [
    {
     "data": {
      "text/plain": [
       "[]"
      ]
     },
     "execution_count": 134,
     "metadata": {},
     "output_type": "execute_result"
    },
    {
     "data": {
      "image/png": "[encoded data removed]",
      "text/plain": [
       "<Figure size 1000x600 with 1 Axes>"
      ]
     },
     "metadata": {},
     "output_type": "display_data"
    }
   ],
   "source": [
    "\n",
    "# print(matplotlib.__version__)\n",
    "\n",
    "plt.figure(figsize=(10,6))\n",
    "plt.title('ROC curve for the pink category')\n",
    "scatter = plt.scatter(fpr,tpr,c=values,cmap=colours)\n",
    "plt.legend(handles=scatter.legend_elements()[0], labels=classes,title='threshold')\n",
    "# plt.legend(labels=classes,title='threshold')\n",
    "plt.ylabel('true positive rate')\n",
    "plt.xlabel('false positive rate')\n",
    "plt.xlim((-0.05,1.05))\n",
    "plt.ylim((-0.05,1.05))\n",
    "plt.plot()"
   ]
  },
  {
   "cell_type": "markdown",
   "metadata": {},
   "source": [
    "Comment this ROC curve: "
   ]
  },
  {
   "cell_type": "markdown",
   "metadata": {},
   "source": [
    "We see that the ROC Curve looks as anticipated. \n",
    "It has the usual shape. It ist not really linear which implicates ..."
   ]
  },
  {
   "cell_type": "markdown",
   "metadata": {},
   "source": [
    "# Exercise: The simplest neural network ever"
   ]
  },
  {
   "cell_type": "code",
   "execution_count": 135,
   "metadata": {},
   "outputs": [
    {
     "name": "stdout",
     "output_type": "stream",
     "text": [
      "shape inputs X (4, 3)\n",
      "shape outputs Y (4, 1)\n",
      "weights shape (3, 1)\n"
     ]
    }
   ],
   "source": [
    "# sigmoid function - this is our squeezing funct (when deriv=False) and its derivative (when deriv = True)\n",
    "\n",
    "# squeezing function\n",
    "def nonlin(x, deriv=False):\n",
    "    if (deriv == True):\n",
    "        return x * (1 - x)\n",
    "    return 1 / (1 + np.exp(-x))\n",
    "\n",
    "\n",
    "# input dataset\n",
    "X = np.array([[0, 0, 1],\n",
    "              [0, 1, 1],\n",
    "              [1, 0, 1],\n",
    "              [1, 1, 1]])\n",
    "print('shape inputs X',X.shape)\n",
    "# output dataset\n",
    "y = np.array([[0, 0, 1, 1]]).T\n",
    "print('shape outputs Y',y.shape)\n",
    "# seed random numbers to make calculation\n",
    "# deterministic (just a good practice)\n",
    "np.random.seed(1)\n",
    "\n",
    "# initialize weights randomly with mean 0\n",
    "weights = 2 * np.random.random((3, 1)) - 1\n",
    "\n",
    "\n",
    "print('weights shape',weights.shape)\n"
   ]
  },
  {
   "cell_type": "markdown",
   "metadata": {},
   "source": [
    "Make a loop over 10 000 iteration to update the weights for a ONE LAYER neural network with 1 ouput in the loop you should start by evaluating the output with the current weights then you compute the error made\n",
    "to update your weights, you can use the 'gradient method' finally you need to update your weights. \n"
   ]
  },
  {
   "attachments": {},
   "cell_type": "markdown",
   "metadata": {},
   "source": [
    "\n",
    "<img src=\"./figures/nn_simple_1.jpg\" width=\"800\" height=\"400\">\n"
   ]
  },
  {
   "cell_type": "code",
   "execution_count": 136,
   "metadata": {},
   "outputs": [
    {
     "ename": "SyntaxError",
     "evalue": "invalid syntax (2799084605.py, line 9)",
     "output_type": "error",
     "traceback": [
      "\u001b[0;36m  Cell \u001b[0;32mIn [136], line 9\u001b[0;36m\u001b[0m\n\u001b[0;31m    a1_hat = ...... # rem: this is computing the outputs of all inputs at once! (because a0 is )\u001b[0m\n\u001b[0m                ^\u001b[0m\n\u001b[0;31mSyntaxError\u001b[0m\u001b[0;31m:\u001b[0m invalid syntax\n"
     ]
    }
   ],
   "source": [
    "weights = 2 * np.random.random((3, 1)) - 1\n",
    "a0 = X\n",
    "print('a0 shape',a0.shape)\n",
    "a1 = y\n",
    "eta=.5 #learning rate\n",
    "print(a1.shape)\n",
    "for iter in range(1000):\n",
    "    # forward propagation => this is the formula for a_O^(1) in the first image above. \n",
    "    a1_hat = ...... # rem: this is computing the outputs of all inputs at once! (because a0 is )\n",
    "    # how much did we miss (a1_hat is our estimation of the result)?- again this is an array containing the errors for all samples\n",
    "    a1_error = ... \n",
    "    # compute the gradient of C (multiply how much we missed by the slope of the sigmoid at x* (see slide))\n",
    "    gradcost = .....\n",
    "    #print('a1_delta shape',a1_delta.shape)\n",
    "    # update weights (the dot product is to sum over the whole training set)\n",
    "    weights += ...\n",
    "    \n",
    "print('Output After Training:')\n",
    "print(a1_hat)\n",
    "print('True output')\n",
    "print(a1)\n",
    "\n"
   ]
  },
  {
   "cell_type": "markdown",
   "metadata": {},
   "source": [
    "# Exercise: Resampling Methods"
   ]
  },
  {
   "cell_type": "markdown",
   "metadata": {},
   "source": [
    "Apply either a black box LDA or black box NN to the myX, myY dataset and estimate the test error. Justify your choice of resampling method and comment the result obtained. \n",
    "\n",
    "You can find examples in the notebook examples_supervised_learning.ipynb"
   ]
  },
  {
   "cell_type": "code",
   "execution_count": null,
   "metadata": {},
   "outputs": [],
   "source": [
    "myX = np.loadtxt('myX.txt')\n",
    "myY= np.genfromtxt('myY.txt',delimiter='\\n',dtype=str)"
   ]
  },
  {
   "cell_type": "code",
   "execution_count": null,
   "metadata": {},
   "outputs": [],
   "source": []
  },
  {
   "cell_type": "code",
   "execution_count": null,
   "metadata": {},
   "outputs": [],
   "source": []
  }
 ],
 "metadata": {
  "anaconda-cloud": {},
  "kernelspec": {
   "display_name": "Python 3.9.6 64-bit",
   "language": "python",
   "name": "python3"
  },
  "language_info": {
   "codemirror_mode": {
    "name": "ipython",
    "version": 3
   },
   "file_extension": ".py",
   "mimetype": "text/x-python",
   "name": "python",
   "nbconvert_exporter": "python",
   "pygments_lexer": "ipython3",
   "version": "3.9.6"
  },
  "latex_envs": {
   "LaTeX_envs_menu_present": true,
   "autoclose": false,
   "autocomplete": true,
   "bibliofile": "biblio.bib",
   "cite_by": "apalike",
   "current_citInitial": 1,
   "eqLabelWithNumbers": true,
   "eqNumInitial": 1,
   "hotkeys": {
    "equation": "Ctrl-E",
    "itemize": "Ctrl-I"
   },
   "labels_anchors": false,
   "latex_user_defs": false,
   "report_style_numbering": false,
   "user_envs_cfg": false
  },
  "toc": {
   "base_numbering": 1,
   "nav_menu": {},
   "number_sections": true,
   "sideBar": true,
   "skip_h1_title": false,
   "title_cell": "Table of Contents",
   "title_sidebar": "Contents",
   "toc_cell": false,
   "toc_position": {},
   "toc_section_display": true,
   "toc_window_display": false
  },
  "vscode": {
   "interpreter": {
    "hash": "31f2aee4e71d21fbe5cf8b01ff0e069b9275f58929596ceb00d14d90e3e16cd6"
   }
  }
 },
 "nbformat": 4,
 "nbformat_minor": 2
}
